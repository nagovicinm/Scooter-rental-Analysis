{
 "cells": [
  {
   "cell_type": "markdown",
   "id": "387a3260",
   "metadata": {},
   "source": [
    "<div style=\"border:solid green 2px; padding: 20px\">\n",
    "\n",
    "<b>Привет, Максим! Поздравляю с выполнением очередного проекта!!</b>\n",
    "\n",
    "Меня зовут Петр Раздобреев и я буду проверять твою работу. Попробую помочь сделать тебе её еще лучше! В Практикуме принято общени на ты, но если это дискомфортно, то сообщи об этом)\n",
    "\n",
    "Ниже ты найдешь мои комментарии - пожалуйста, не перемещай, не изменяй и не удаляй их. Я буду использовать цветовую разметку:\n",
    "\n",
    "<div class=\"alert alert-danger\">\n",
    "<b>Комментарий ревьюера:</b>☁️Так выделены самые важные замечания. Без их отработки проект не будет принят. </div>\n",
    "\n",
    "<div class=\"alert alert-warning\">\n",
    "<b>Комментарий ревьюера:</b>⛅️ Так выделены небольшие замечания.Такие замечания в проекте допустимы, это пространство для улучшений в будущем.\n",
    "</div>\n",
    "\n",
    "<div class=\"alert alert-success\">\n",
    "<b>Комментарий ревьюера:</b>☀️Так я выделяю успешные идеи.</div>\n",
    "\n",
    "Давай работать над проектом в диалоге: если ты что-то меняешь в проекте или отвечаешь на мои комменатри — пиши об этом. Мне будет легче отследить изменения, если ты выделишь свои комментарии:\n",
    "<div class=\"alert alert-info\"> <b>Комментарий студента:</b> Например, вот так.</div>\n",
    "\n",
    "Всё это поможет выполнить повторную проверку твоего проекта оперативнее. \n",
    "    "
   ]
  },
  {
   "cell_type": "markdown",
   "id": "d2eade03",
   "metadata": {},
   "source": [
    "<div class=\"alert alert-info\"> <b>Комментарий студента:</b> Привет👋, договорились) \n",
    "\n",
    "я заметил список глав,  когда открыл проверенную работу, и у меня он мягко говоря непонятный) на странице курсов в тренажере \n",
    "есть кнопка юпитера table of contents у меня в юпитере её нет) как её добавить?))</div>"
   ]
  },
  {
   "cell_type": "markdown",
   "id": "f57e4186",
   "metadata": {},
   "source": [
    "<div class=\"alert alert-success\">\n",
    "<b>Комментарий ревьюера v2:</b>☀️\n",
    "   \n",
    "Здравствуй, Максим. Да, есть модуль `toc`, его можно установить дополнительно себе, нашёл такой материал - https://pcmac.download/app/1080500034/toc. Может быть используешь другую инструкцию\n",
    "\n",
    "</div>"
   ]
  },
  {
   "cell_type": "markdown",
   "id": "693dc3a4",
   "metadata": {},
   "source": [
    "# Проект: Статистический анализ данных"
   ]
  },
  {
   "cell_type": "markdown",
   "id": "8e2074a4",
   "metadata": {},
   "source": [
    "## Введение\n",
    "\n",
    "Популярный сервис аренды самокатов GoFast, его специалисты,  передали данные о некоторых пользователях из нескольких городов, а также об их поездках. Необходимо проанализировать данные и проверить некоторые гипотезы, которые могут помочь бизнесу вырасти, такие как:\n",
    "\n",
    "- 1 Тратят ли пользователи с подпиской больше времени на поездки?\n",
    "- 2 Можно ли сказать, что среднее расстояние, которое проезжают пользователи с подпиской за одну поездку, не превышает 3130 метров?\n",
    "- 3 Будет ли помесячная выручка от пользователей с подпиской по месяцам выше, чем выручка от пользователей без подписки?\n",
    "\n",
    "Предварительно Изучить, Предобработать, Визуализировать, Объединить данные и Подсчитать выручку."
   ]
  },
  {
   "cell_type": "markdown",
   "id": "4940c4a1",
   "metadata": {},
   "source": [
    "## Описание данных\n",
    "\n",
    "В основных данных есть информация о пользователях, их поездках и подписках.\n",
    "\n",
    "Пользователи — `users_go.csv`\n",
    "| | |\n",
    "|--|--|\n",
    "|user_id |\tуникальный идентификатор пользователя |\n",
    "|name |\tимя пользователя |\n",
    "|age |\tвозраст|\n",
    "|city |\tгород|\n",
    "|subscription_type |\tтип подписки (free, ultra)|\n",
    "\n",
    "Поездки — `rides_go.csv`\n",
    "\n",
    "| | |\n",
    "|--|--|\n",
    "|user_id|\tуникальный идентификатор пользователя|\n",
    "|distance|\tрасстояние, которое пользователь проехал в текущей сессии (в метрах)|\n",
    "|duration|\tпродолжительность сессии (в минутах) — время с того момента, как пользователь нажал кнопку «Начать поездку» до момента, как он нажал кнопку «Завершить поездку»|\n",
    "|date|\tдата совершения поездки|\n",
    "\n",
    "Подписки — `subscriptions_go.csv`\n",
    "\n",
    "| | |\n",
    "|--|--|\n",
    "|subscription_type|\tтип подписки|\n",
    "|minute_price|\tстоимость одной минуты поездки по данной подписке|\n",
    "|start_ride_price|\tстоимость начала поездки|\n",
    "|subscription_fee|\tстоимость ежемесячного платежа|\n"
   ]
  },
  {
   "cell_type": "markdown",
   "id": "12f0cc81",
   "metadata": {},
   "source": [
    "# 1. Шаг 1. Загрузка данных"
   ]
  },
  {
   "cell_type": "code",
   "execution_count": 1,
   "id": "b10a12cc",
   "metadata": {},
   "outputs": [],
   "source": [
    "import pandas as pd\n",
    "try:\n",
    "    #локальный доступ из той же папки где тетрадь\n",
    "    users = pd.read_csv('users_go.csv')\n",
    "    rides = pd.read_csv('rides_go.csv')\n",
    "    subscriptions = pd.read_csv('subscriptions_go.csv')\n",
    "except:\n",
    "     #общедоступный доступ к файлу\n",
    "    users = pd.read_csv('https://code.s3.yandex.net/datasets/users_go.csv')\n",
    "    rides = pd.read_csv('https://code.s3.yandex.net/datasets/rides_go.csv')\n",
    "    subscriptions = pd.read_csv('https://code.s3.yandex.net/datasets/subscriptions_go.csv')\n",
    "    "
   ]
  },
  {
   "cell_type": "code",
   "execution_count": 2,
   "id": "0ad8785c",
   "metadata": {},
   "outputs": [
    {
     "name": "stdout",
     "output_type": "stream",
     "text": [
      "<class 'pandas.core.frame.DataFrame'>\n",
      "RangeIndex: 1565 entries, 0 to 1564\n",
      "Data columns (total 5 columns):\n",
      " #   Column             Non-Null Count  Dtype \n",
      "---  ------             --------------  ----- \n",
      " 0   user_id            1565 non-null   int64 \n",
      " 1   name               1565 non-null   object\n",
      " 2   age                1565 non-null   int64 \n",
      " 3   city               1565 non-null   object\n",
      " 4   subscription_type  1565 non-null   object\n",
      "dtypes: int64(2), object(3)\n",
      "memory usage: 61.3+ KB\n"
     ]
    },
    {
     "data": {
      "text/html": [
       "<div>\n",
       "<style scoped>\n",
       "    .dataframe tbody tr th:only-of-type {\n",
       "        vertical-align: middle;\n",
       "    }\n",
       "\n",
       "    .dataframe tbody tr th {\n",
       "        vertical-align: top;\n",
       "    }\n",
       "\n",
       "    .dataframe thead th {\n",
       "        text-align: right;\n",
       "    }\n",
       "</style>\n",
       "<table border=\"1\" class=\"dataframe\">\n",
       "  <thead>\n",
       "    <tr style=\"text-align: right;\">\n",
       "      <th></th>\n",
       "      <th>user_id</th>\n",
       "      <th>name</th>\n",
       "      <th>age</th>\n",
       "      <th>city</th>\n",
       "      <th>subscription_type</th>\n",
       "    </tr>\n",
       "  </thead>\n",
       "  <tbody>\n",
       "    <tr>\n",
       "      <th>0</th>\n",
       "      <td>1</td>\n",
       "      <td>Кира</td>\n",
       "      <td>22</td>\n",
       "      <td>Тюмень</td>\n",
       "      <td>ultra</td>\n",
       "    </tr>\n",
       "    <tr>\n",
       "      <th>1</th>\n",
       "      <td>2</td>\n",
       "      <td>Станислав</td>\n",
       "      <td>31</td>\n",
       "      <td>Омск</td>\n",
       "      <td>ultra</td>\n",
       "    </tr>\n",
       "    <tr>\n",
       "      <th>2</th>\n",
       "      <td>3</td>\n",
       "      <td>Алексей</td>\n",
       "      <td>20</td>\n",
       "      <td>Москва</td>\n",
       "      <td>ultra</td>\n",
       "    </tr>\n",
       "    <tr>\n",
       "      <th>3</th>\n",
       "      <td>4</td>\n",
       "      <td>Константин</td>\n",
       "      <td>26</td>\n",
       "      <td>Ростов-на-Дону</td>\n",
       "      <td>ultra</td>\n",
       "    </tr>\n",
       "    <tr>\n",
       "      <th>4</th>\n",
       "      <td>5</td>\n",
       "      <td>Адель</td>\n",
       "      <td>28</td>\n",
       "      <td>Омск</td>\n",
       "      <td>ultra</td>\n",
       "    </tr>\n",
       "    <tr>\n",
       "      <th>...</th>\n",
       "      <td>...</td>\n",
       "      <td>...</td>\n",
       "      <td>...</td>\n",
       "      <td>...</td>\n",
       "      <td>...</td>\n",
       "    </tr>\n",
       "    <tr>\n",
       "      <th>1560</th>\n",
       "      <td>829</td>\n",
       "      <td>Федор</td>\n",
       "      <td>29</td>\n",
       "      <td>Пятигорск</td>\n",
       "      <td>free</td>\n",
       "    </tr>\n",
       "    <tr>\n",
       "      <th>1561</th>\n",
       "      <td>809</td>\n",
       "      <td>Юрий</td>\n",
       "      <td>26</td>\n",
       "      <td>Сочи</td>\n",
       "      <td>free</td>\n",
       "    </tr>\n",
       "    <tr>\n",
       "      <th>1562</th>\n",
       "      <td>307</td>\n",
       "      <td>Ясмина</td>\n",
       "      <td>19</td>\n",
       "      <td>Краснодар</td>\n",
       "      <td>ultra</td>\n",
       "    </tr>\n",
       "    <tr>\n",
       "      <th>1563</th>\n",
       "      <td>47</td>\n",
       "      <td>Юрий</td>\n",
       "      <td>28</td>\n",
       "      <td>Тюмень</td>\n",
       "      <td>ultra</td>\n",
       "    </tr>\n",
       "    <tr>\n",
       "      <th>1564</th>\n",
       "      <td>1045</td>\n",
       "      <td>Артемий</td>\n",
       "      <td>28</td>\n",
       "      <td>Ростов-на-Дону</td>\n",
       "      <td>free</td>\n",
       "    </tr>\n",
       "  </tbody>\n",
       "</table>\n",
       "<p>1565 rows × 5 columns</p>\n",
       "</div>"
      ],
      "text/plain": [
       "      user_id        name  age            city subscription_type\n",
       "0           1        Кира   22          Тюмень             ultra\n",
       "1           2   Станислав   31            Омск             ultra\n",
       "2           3     Алексей   20          Москва             ultra\n",
       "3           4  Константин   26  Ростов-на-Дону             ultra\n",
       "4           5       Адель   28            Омск             ultra\n",
       "...       ...         ...  ...             ...               ...\n",
       "1560      829       Федор   29       Пятигорск              free\n",
       "1561      809        Юрий   26            Сочи              free\n",
       "1562      307      Ясмина   19       Краснодар             ultra\n",
       "1563       47        Юрий   28          Тюмень             ultra\n",
       "1564     1045     Артемий   28  Ростов-на-Дону              free\n",
       "\n",
       "[1565 rows x 5 columns]"
      ]
     },
     "metadata": {},
     "output_type": "display_data"
    },
    {
     "name": "stdout",
     "output_type": "stream",
     "text": [
      "**************************************************\n",
      "<class 'pandas.core.frame.DataFrame'>\n",
      "RangeIndex: 18068 entries, 0 to 18067\n",
      "Data columns (total 4 columns):\n",
      " #   Column    Non-Null Count  Dtype  \n",
      "---  ------    --------------  -----  \n",
      " 0   user_id   18068 non-null  int64  \n",
      " 1   distance  18068 non-null  float64\n",
      " 2   duration  18068 non-null  float64\n",
      " 3   date      18068 non-null  object \n",
      "dtypes: float64(2), int64(1), object(1)\n",
      "memory usage: 564.8+ KB\n"
     ]
    },
    {
     "data": {
      "text/html": [
       "<div>\n",
       "<style scoped>\n",
       "    .dataframe tbody tr th:only-of-type {\n",
       "        vertical-align: middle;\n",
       "    }\n",
       "\n",
       "    .dataframe tbody tr th {\n",
       "        vertical-align: top;\n",
       "    }\n",
       "\n",
       "    .dataframe thead th {\n",
       "        text-align: right;\n",
       "    }\n",
       "</style>\n",
       "<table border=\"1\" class=\"dataframe\">\n",
       "  <thead>\n",
       "    <tr style=\"text-align: right;\">\n",
       "      <th></th>\n",
       "      <th>user_id</th>\n",
       "      <th>distance</th>\n",
       "      <th>duration</th>\n",
       "      <th>date</th>\n",
       "    </tr>\n",
       "  </thead>\n",
       "  <tbody>\n",
       "    <tr>\n",
       "      <th>0</th>\n",
       "      <td>1</td>\n",
       "      <td>4409.919140</td>\n",
       "      <td>25.599769</td>\n",
       "      <td>2021-01-01</td>\n",
       "    </tr>\n",
       "    <tr>\n",
       "      <th>1</th>\n",
       "      <td>1</td>\n",
       "      <td>2617.592153</td>\n",
       "      <td>15.816871</td>\n",
       "      <td>2021-01-18</td>\n",
       "    </tr>\n",
       "    <tr>\n",
       "      <th>2</th>\n",
       "      <td>1</td>\n",
       "      <td>754.159807</td>\n",
       "      <td>6.232113</td>\n",
       "      <td>2021-04-20</td>\n",
       "    </tr>\n",
       "    <tr>\n",
       "      <th>3</th>\n",
       "      <td>1</td>\n",
       "      <td>2694.783254</td>\n",
       "      <td>18.511000</td>\n",
       "      <td>2021-08-11</td>\n",
       "    </tr>\n",
       "    <tr>\n",
       "      <th>4</th>\n",
       "      <td>1</td>\n",
       "      <td>4028.687306</td>\n",
       "      <td>26.265803</td>\n",
       "      <td>2021-08-28</td>\n",
       "    </tr>\n",
       "    <tr>\n",
       "      <th>...</th>\n",
       "      <td>...</td>\n",
       "      <td>...</td>\n",
       "      <td>...</td>\n",
       "      <td>...</td>\n",
       "    </tr>\n",
       "    <tr>\n",
       "      <th>18063</th>\n",
       "      <td>1534</td>\n",
       "      <td>3781.098080</td>\n",
       "      <td>19.822962</td>\n",
       "      <td>2021-11-04</td>\n",
       "    </tr>\n",
       "    <tr>\n",
       "      <th>18064</th>\n",
       "      <td>1534</td>\n",
       "      <td>2840.423057</td>\n",
       "      <td>21.409799</td>\n",
       "      <td>2021-11-16</td>\n",
       "    </tr>\n",
       "    <tr>\n",
       "      <th>18065</th>\n",
       "      <td>1534</td>\n",
       "      <td>3826.185507</td>\n",
       "      <td>18.435051</td>\n",
       "      <td>2021-11-18</td>\n",
       "    </tr>\n",
       "    <tr>\n",
       "      <th>18066</th>\n",
       "      <td>1534</td>\n",
       "      <td>2902.308661</td>\n",
       "      <td>16.674362</td>\n",
       "      <td>2021-11-27</td>\n",
       "    </tr>\n",
       "    <tr>\n",
       "      <th>18067</th>\n",
       "      <td>1534</td>\n",
       "      <td>2371.711192</td>\n",
       "      <td>15.893917</td>\n",
       "      <td>2021-12-29</td>\n",
       "    </tr>\n",
       "  </tbody>\n",
       "</table>\n",
       "<p>18068 rows × 4 columns</p>\n",
       "</div>"
      ],
      "text/plain": [
       "       user_id     distance   duration        date\n",
       "0            1  4409.919140  25.599769  2021-01-01\n",
       "1            1  2617.592153  15.816871  2021-01-18\n",
       "2            1   754.159807   6.232113  2021-04-20\n",
       "3            1  2694.783254  18.511000  2021-08-11\n",
       "4            1  4028.687306  26.265803  2021-08-28\n",
       "...        ...          ...        ...         ...\n",
       "18063     1534  3781.098080  19.822962  2021-11-04\n",
       "18064     1534  2840.423057  21.409799  2021-11-16\n",
       "18065     1534  3826.185507  18.435051  2021-11-18\n",
       "18066     1534  2902.308661  16.674362  2021-11-27\n",
       "18067     1534  2371.711192  15.893917  2021-12-29\n",
       "\n",
       "[18068 rows x 4 columns]"
      ]
     },
     "metadata": {},
     "output_type": "display_data"
    },
    {
     "name": "stdout",
     "output_type": "stream",
     "text": [
      "**************************************************\n",
      "<class 'pandas.core.frame.DataFrame'>\n",
      "RangeIndex: 2 entries, 0 to 1\n",
      "Data columns (total 4 columns):\n",
      " #   Column             Non-Null Count  Dtype \n",
      "---  ------             --------------  ----- \n",
      " 0   subscription_type  2 non-null      object\n",
      " 1   minute_price       2 non-null      int64 \n",
      " 2   start_ride_price   2 non-null      int64 \n",
      " 3   subscription_fee   2 non-null      int64 \n",
      "dtypes: int64(3), object(1)\n",
      "memory usage: 196.0+ bytes\n"
     ]
    },
    {
     "data": {
      "text/html": [
       "<div>\n",
       "<style scoped>\n",
       "    .dataframe tbody tr th:only-of-type {\n",
       "        vertical-align: middle;\n",
       "    }\n",
       "\n",
       "    .dataframe tbody tr th {\n",
       "        vertical-align: top;\n",
       "    }\n",
       "\n",
       "    .dataframe thead th {\n",
       "        text-align: right;\n",
       "    }\n",
       "</style>\n",
       "<table border=\"1\" class=\"dataframe\">\n",
       "  <thead>\n",
       "    <tr style=\"text-align: right;\">\n",
       "      <th></th>\n",
       "      <th>subscription_type</th>\n",
       "      <th>minute_price</th>\n",
       "      <th>start_ride_price</th>\n",
       "      <th>subscription_fee</th>\n",
       "    </tr>\n",
       "  </thead>\n",
       "  <tbody>\n",
       "    <tr>\n",
       "      <th>0</th>\n",
       "      <td>free</td>\n",
       "      <td>8</td>\n",
       "      <td>50</td>\n",
       "      <td>0</td>\n",
       "    </tr>\n",
       "    <tr>\n",
       "      <th>1</th>\n",
       "      <td>ultra</td>\n",
       "      <td>6</td>\n",
       "      <td>0</td>\n",
       "      <td>199</td>\n",
       "    </tr>\n",
       "  </tbody>\n",
       "</table>\n",
       "</div>"
      ],
      "text/plain": [
       "  subscription_type  minute_price  start_ride_price  subscription_fee\n",
       "0              free             8                50                 0\n",
       "1             ultra             6                 0               199"
      ]
     },
     "metadata": {},
     "output_type": "display_data"
    }
   ],
   "source": [
    "def i(df):\n",
    "    df.info()\n",
    "    display(df)\n",
    "\n",
    "i(users)\n",
    "print('*'*50)\n",
    "i(rides)\n",
    "print('*'*50)\n",
    "i(subscriptions)"
   ]
  },
  {
   "cell_type": "markdown",
   "id": "b4bd69db",
   "metadata": {},
   "source": [
    "<div class=\"alert alert-info\"> <b>Комментарий студента:</b> Отличный совет  </div>"
   ]
  },
  {
   "cell_type": "markdown",
   "id": "12845458",
   "metadata": {},
   "source": [
    "<div class=\"alert alert-success\">\n",
    "<b>Комментарий ревьюера v2:</b>☀️\n",
    "   \n",
    "\n",
    "Пожалуйста, ещё можно добавить разделитель между методами анализа вот так `print('*'*50)`. Ну и в функцию хорошо бы добавить вывод числа дубликатов  \n",
    "</div>"
   ]
  },
  {
   "cell_type": "markdown",
   "id": "5ecef98e",
   "metadata": {},
   "source": [
    "users.info()\n",
    "users"
   ]
  },
  {
   "cell_type": "markdown",
   "id": "f3d9f9d9",
   "metadata": {},
   "source": [
    "<div class=\"alert alert-success\">\n",
    "<b>Комментарий ревьюера:</b>☀️\n",
    "    \n",
    "* Неважно в какой строке вызывать `info`, в любом случае результат будет выведен на экран и без `display`, а вот вывод датафрейма без дополнительного `display` произойдёт только в послежней строке, в связи с этим рекомендую поменять порядок \n",
    "    \n",
    "* Кажется забавным писать несколько десятков слов, чтобы помочь сэкономить написания 9 символов)    \n",
    "</div>"
   ]
  },
  {
   "cell_type": "markdown",
   "id": "ed321550",
   "metadata": {},
   "source": [
    "<div class=\"alert alert-info\"> <b>Комментарий студента:</b> Хорошее замечание))  </div>"
   ]
  },
  {
   "cell_type": "markdown",
   "id": "785bfbec",
   "metadata": {},
   "source": [
    "rides.info()\n",
    "rides"
   ]
  },
  {
   "cell_type": "markdown",
   "id": "28484fe8",
   "metadata": {},
   "source": [
    "subscriptions.info()\n",
    "subscriptions"
   ]
  },
  {
   "cell_type": "markdown",
   "id": "6ae92f73",
   "metadata": {},
   "source": [
    " данные из `subscriptions_go.csv` содержат описание:\n",
    " \n",
    " Чтобы совершать поездки по городу, пользователи сервиса GoFast пользуются мобильным приложением. \n",
    " \n",
    " \n",
    " Сервисом можно пользоваться:\n",
    "\n",
    "\"без подписки\" - `free`\n",
    "\n",
    "- Абонентская плата отсутствует - 0 рублей\n",
    "- Стоимость старта (начала поездки) — 50 рублей\n",
    "- Cтоимость одной минуты поездки — 8 рублей\n",
    "\n",
    "C подпиской `Ultra`\n",
    "- Абонентская плата — 199 рублей в месяц\n",
    "- Стоимость старта — 0 рублей\n",
    "- Стоимость одной минуты поездки — 6 рублей\n"
   ]
  },
  {
   "cell_type": "markdown",
   "id": "1cdee62f",
   "metadata": {},
   "source": [
    "### Хорошие новости:\n",
    "\n",
    "Замечательные данные. \n",
    "- Описание совпадает\n",
    "- Наименование столбцов не требует изменения\n",
    "- Пропусков в данных не обнаружено\n",
    "- Тип данных приемлемый, кроме столбца `date` переведу в `datetime`\n"
   ]
  },
  {
   "cell_type": "markdown",
   "id": "b9632906",
   "metadata": {},
   "source": [
    "# 2. Шаг 2. Предобработка данных\n",
    "\n",
    "- [x] Поменять тип данных\n",
    "- [x] Новый столбец с номером месяца\n",
    "- [x] Наличие пропущенных значений и дубликатов, их обработка\n",
    "- [x] Округление продолжительности поездки"
   ]
  },
  {
   "cell_type": "markdown",
   "id": "4012b1dc",
   "metadata": {},
   "source": [
    "## 2.1 Поменять тип данных столбца `date`в `datetime`"
   ]
  },
  {
   "cell_type": "code",
   "execution_count": 3,
   "id": "14daa02a",
   "metadata": {},
   "outputs": [
    {
     "data": {
      "text/html": [
       "<div>\n",
       "<style scoped>\n",
       "    .dataframe tbody tr th:only-of-type {\n",
       "        vertical-align: middle;\n",
       "    }\n",
       "\n",
       "    .dataframe tbody tr th {\n",
       "        vertical-align: top;\n",
       "    }\n",
       "\n",
       "    .dataframe thead th {\n",
       "        text-align: right;\n",
       "    }\n",
       "</style>\n",
       "<table border=\"1\" class=\"dataframe\">\n",
       "  <thead>\n",
       "    <tr style=\"text-align: right;\">\n",
       "      <th></th>\n",
       "      <th>user_id</th>\n",
       "      <th>distance</th>\n",
       "      <th>duration</th>\n",
       "      <th>date</th>\n",
       "    </tr>\n",
       "  </thead>\n",
       "  <tbody>\n",
       "    <tr>\n",
       "      <th>0</th>\n",
       "      <td>1</td>\n",
       "      <td>4409.91914</td>\n",
       "      <td>25.599769</td>\n",
       "      <td>2021-01-01</td>\n",
       "    </tr>\n",
       "  </tbody>\n",
       "</table>\n",
       "</div>"
      ],
      "text/plain": [
       "   user_id    distance   duration       date\n",
       "0        1  4409.91914  25.599769 2021-01-01"
      ]
     },
     "metadata": {},
     "output_type": "display_data"
    },
    {
     "name": "stdout",
     "output_type": "stream",
     "text": [
      "<class 'pandas.core.frame.DataFrame'>\n",
      "RangeIndex: 18068 entries, 0 to 18067\n",
      "Data columns (total 4 columns):\n",
      " #   Column    Non-Null Count  Dtype         \n",
      "---  ------    --------------  -----         \n",
      " 0   user_id   18068 non-null  int64         \n",
      " 1   distance  18068 non-null  float64       \n",
      " 2   duration  18068 non-null  float64       \n",
      " 3   date      18068 non-null  datetime64[ns]\n",
      "dtypes: datetime64[ns](1), float64(2), int64(1)\n",
      "memory usage: 564.8 KB\n"
     ]
    }
   ],
   "source": [
    "#переведу формат в datetime\n",
    "rides['date'] = pd.to_datetime(rides['date'], format='%Y-%m-%d') \n",
    "\n",
    "#выведу 1 строку и информацию для проверки применения типа данных.\n",
    "display(rides.head(1))\n",
    "rides.info()"
   ]
  },
  {
   "cell_type": "markdown",
   "id": "720d2f7a",
   "metadata": {},
   "source": [
    "## 2.2 Новый столбец с номером месяца"
   ]
  },
  {
   "cell_type": "code",
   "execution_count": 4,
   "id": "e5e10d54",
   "metadata": {},
   "outputs": [
    {
     "data": {
      "text/html": [
       "<div>\n",
       "<style scoped>\n",
       "    .dataframe tbody tr th:only-of-type {\n",
       "        vertical-align: middle;\n",
       "    }\n",
       "\n",
       "    .dataframe tbody tr th {\n",
       "        vertical-align: top;\n",
       "    }\n",
       "\n",
       "    .dataframe thead th {\n",
       "        text-align: right;\n",
       "    }\n",
       "</style>\n",
       "<table border=\"1\" class=\"dataframe\">\n",
       "  <thead>\n",
       "    <tr style=\"text-align: right;\">\n",
       "      <th></th>\n",
       "      <th>user_id</th>\n",
       "      <th>distance</th>\n",
       "      <th>duration</th>\n",
       "      <th>date</th>\n",
       "      <th>month</th>\n",
       "    </tr>\n",
       "  </thead>\n",
       "  <tbody>\n",
       "    <tr>\n",
       "      <th>0</th>\n",
       "      <td>1</td>\n",
       "      <td>4409.91914</td>\n",
       "      <td>25.599769</td>\n",
       "      <td>2021-01-01</td>\n",
       "      <td>1</td>\n",
       "    </tr>\n",
       "  </tbody>\n",
       "</table>\n",
       "</div>"
      ],
      "text/plain": [
       "   user_id    distance   duration       date  month\n",
       "0        1  4409.91914  25.599769 2021-01-01      1"
      ]
     },
     "metadata": {},
     "output_type": "display_data"
    }
   ],
   "source": [
    "#месяц совершения поездки\n",
    "rides['month'] = rides['date'].dt.month \n",
    "display(rides.head(1))"
   ]
  },
  {
   "cell_type": "markdown",
   "id": "822120db",
   "metadata": {},
   "source": [
    "## 2.3 Наличие пропущенных значений и дубликатов, их обработка\n",
    "\n",
    "Пропусков в данных не обнаружено, дубликаты требуют выявления."
   ]
  },
  {
   "cell_type": "code",
   "execution_count": 5,
   "id": "bf780f1c",
   "metadata": {},
   "outputs": [
    {
     "name": "stdout",
     "output_type": "stream",
     "text": [
      "31\n"
     ]
    },
    {
     "data": {
      "text/plain": [
       "0"
      ]
     },
     "execution_count": 5,
     "metadata": {},
     "output_type": "execute_result"
    }
   ],
   "source": [
    "#проверю явные дубликаты\n",
    "print(users.duplicated().sum()) \n",
    "rides.duplicated().sum()"
   ]
  },
  {
   "cell_type": "code",
   "execution_count": 6,
   "id": "1dbdbda2",
   "metadata": {},
   "outputs": [
    {
     "data": {
      "text/html": [
       "<div>\n",
       "<style scoped>\n",
       "    .dataframe tbody tr th:only-of-type {\n",
       "        vertical-align: middle;\n",
       "    }\n",
       "\n",
       "    .dataframe tbody tr th {\n",
       "        vertical-align: top;\n",
       "    }\n",
       "\n",
       "    .dataframe thead th {\n",
       "        text-align: right;\n",
       "    }\n",
       "</style>\n",
       "<table border=\"1\" class=\"dataframe\">\n",
       "  <thead>\n",
       "    <tr style=\"text-align: right;\">\n",
       "      <th></th>\n",
       "      <th>user_id</th>\n",
       "      <th>name</th>\n",
       "      <th>age</th>\n",
       "      <th>city</th>\n",
       "      <th>subscription_type</th>\n",
       "    </tr>\n",
       "  </thead>\n",
       "  <tbody>\n",
       "    <tr>\n",
       "      <th>1534</th>\n",
       "      <td>293</td>\n",
       "      <td>Агата</td>\n",
       "      <td>26</td>\n",
       "      <td>Краснодар</td>\n",
       "      <td>ultra</td>\n",
       "    </tr>\n",
       "  </tbody>\n",
       "</table>\n",
       "</div>"
      ],
      "text/plain": [
       "      user_id   name  age       city subscription_type\n",
       "1534      293  Агата   26  Краснодар             ultra"
      ]
     },
     "execution_count": 6,
     "metadata": {},
     "output_type": "execute_result"
    }
   ],
   "source": [
    "# выведу 1 дубликат\n",
    "users[users.duplicated()].head(1)"
   ]
  },
  {
   "cell_type": "code",
   "execution_count": 7,
   "id": "859f9583",
   "metadata": {},
   "outputs": [
    {
     "data": {
      "text/plain": [
       "0"
      ]
     },
     "execution_count": 7,
     "metadata": {},
     "output_type": "execute_result"
    }
   ],
   "source": [
    "#одинаковые параметры могут быть но совпадение так же по `user_id` не применимо, удаляю\n",
    "users = users.drop_duplicates().reset_index(drop=True)\n",
    "users.duplicated().sum()"
   ]
  },
  {
   "cell_type": "code",
   "execution_count": 8,
   "id": "94ba6c67",
   "metadata": {},
   "outputs": [
    {
     "data": {
      "text/plain": [
       "user_id\n",
       "1    1\n",
       "Name: count, dtype: int64"
      ]
     },
     "metadata": {},
     "output_type": "display_data"
    }
   ],
   "source": [
    "# проверю наличие дубликатов по 'user_id'\n",
    "display(users['user_id'].value_counts().head(1))\n"
   ]
  },
  {
   "cell_type": "code",
   "execution_count": 9,
   "id": "661730bb",
   "metadata": {},
   "outputs": [
    {
     "data": {
      "text/plain": [
       "array(['Тюмень', 'Омск', 'Москва', 'Ростов-на-Дону', 'Краснодар',\n",
       "       'Пятигорск', 'Екатеринбург', 'Сочи'], dtype=object)"
      ]
     },
     "metadata": {},
     "output_type": "display_data"
    }
   ],
   "source": [
    "display(users['city'].unique())"
   ]
  },
  {
   "cell_type": "markdown",
   "id": "9a1e2fed",
   "metadata": {},
   "source": [
    "<div class=\"alert alert-success\">\n",
    "<b>Комментарий ревьюера:</b>☀️\n",
    "    \n",
    "И про дубликаты не забываешь, замечательно. Но действия по первичному анализу датафреймов схожи, можно было бы функцию написать "
   ]
  },
  {
   "cell_type": "markdown",
   "id": "e9374209",
   "metadata": {},
   "source": [
    "<div class=\"alert alert-info\"> <b>Комментарий студента:</b> тут уже без display() не обойтись? как то так или ещё можно упростить?   </div>\n",
    "\n",
    "\n",
    "def i(df):\n",
    "\n",
    "    df.info()\n",
    "    \n",
    "    display(df)\n",
    "\n",
    "i(users)\n",
    "\n",
    "i(rides)\n",
    "\n",
    "i(subscriptions)\n",
    "\n"
   ]
  },
  {
   "cell_type": "markdown",
   "id": "10eb7bff",
   "metadata": {},
   "source": [
    "<div class=\"alert alert-success\">\n",
    "<b>Комментарий ревьюера v2:</b>☀️\n",
    "   \n",
    "\n",
    "Да, в таком случае не обойтись\n",
    "</div>"
   ]
  },
  {
   "cell_type": "markdown",
   "id": "8cae1d64",
   "metadata": {},
   "source": [
    "Не явных дубликатов не обнаружено"
   ]
  },
  {
   "cell_type": "markdown",
   "id": "d0c4e4c7",
   "metadata": {},
   "source": [
    "## 2.4 Округление продолжительности поездки"
   ]
  },
  {
   "cell_type": "code",
   "execution_count": 10,
   "id": "b987c8ea",
   "metadata": {},
   "outputs": [],
   "source": [
    "# Продолжительность каждой поездки округлена для последующего расчета стоимости\n",
    "import numpy as np\n",
    "\n",
    "# каждое значение из столбца duration округляется с помощью «потолка»: \n",
    "rides['duration'] = np.ceil(rides['duration'])"
   ]
  },
  {
   "cell_type": "markdown",
   "id": "cb6cb07f",
   "metadata": {},
   "source": [
    "# 3. Шаг 3. Исследовательский анализ данных\n",
    "\n",
    "Описание и визуализация общей информации о пользователях и поездках\n",
    "\n",
    "\n",
    "- [x] частота встречаемости городов\n",
    "- [x] соотношение пользователей с подпиской и без подписки\n",
    "- [x] возраст пользователей\n",
    "- [x] расстояние, которое пользователь преодолел за одну поездку\n",
    "- [x] продолжительность поездок"
   ]
  },
  {
   "cell_type": "code",
   "execution_count": 11,
   "id": "98c869b0",
   "metadata": {},
   "outputs": [],
   "source": [
    "import matplotlib.pyplot as plt #для работы с графиками (в том числе гистограммами) импортирую библиотеку matplotlib"
   ]
  },
  {
   "cell_type": "markdown",
   "id": "6ed0e6eb",
   "metadata": {},
   "source": [
    "## 3.1 Частота встречаемости городов"
   ]
  },
  {
   "cell_type": "code",
   "execution_count": 12,
   "id": "b4d360d6",
   "metadata": {},
   "outputs": [
    {
     "name": "stdout",
     "output_type": "stream",
     "text": [
      "city\n",
      "Пятигорск         219\n",
      "Екатеринбург      204\n",
      "Ростов-на-Дону    198\n",
      "Краснодар         193\n",
      "Сочи              189\n",
      "Омск              183\n",
      "Тюмень            180\n",
      "Москва            168\n",
      "Name: count, dtype: int64\n"
     ]
    },
    {
     "data": {
      "text/plain": [
       "<Axes: title={'center': 'Количество пользователей в разных городах'}, xlabel='Города присутствия', ylabel='Количество пользователей'>"
      ]
     },
     "execution_count": 12,
     "metadata": {},
     "output_type": "execute_result"
    },
    {
     "data": {
      "image/png": "[encoded data removed]",
      "text/plain": [
       "<Figure size 640x480 with 1 Axes>"
      ]
     },
     "metadata": {},
     "output_type": "display_data"
    }
   ],
   "source": [
    "#количество пользователей в разных городах\n",
    "print(users['city'].value_counts())\n",
    "(\n",
    "    users['city']\n",
    "    .value_counts()\n",
    "    .plot(kind='bar',\n",
    "          title = 'Количество пользователей в разных городах',\n",
    "         xlabel = 'Города присутствия',\n",
    "         ylabel = 'Количество пользователей')\n",
    ")\n"
   ]
  },
  {
   "cell_type": "markdown",
   "id": "b38f672f",
   "metadata": {},
   "source": [
    "Присутствие в у казанных 8 городах, есть куда расти по географии, по количеству пользователей так же относительно не много около 1500 при населении этих городов около 20 млн. Так  максимальное 219 в Пятигорске и наименьшее 168 в Москве"
   ]
  },
  {
   "cell_type": "markdown",
   "id": "1daf25af",
   "metadata": {},
   "source": [
    "<div class=\"alert alert-danger\">\n",
    "<b>Комментарий ревьюера:</b>☁️\n",
    "\n",
    "Прошу нанести на графики подписи осей, добавить заголовок. Чтобы разобраться с подписями рекомендую вот [эту статью](https://devpractice.ru/matplotlib-lesson-3-3-text-elements/)\n",
    "\n",
    "</div>"
   ]
  },
  {
   "cell_type": "markdown",
   "id": "c38cf6fc",
   "metadata": {},
   "source": [
    "<div class=\"alert alert-info\"> <b>Комментарий студента:</b> сделано 👌   </div>"
   ]
  },
  {
   "cell_type": "markdown",
   "id": "20d5cf26",
   "metadata": {},
   "source": [
    "<div class=\"alert alert-success\">\n",
    "<b>Комментарий ревьюера v2:</b>☀️\n",
    "   \n",
    "Спасибо и сортировка отличная!)\n",
    "\n",
    "</div>"
   ]
  },
  {
   "cell_type": "markdown",
   "id": "9fc4b84a",
   "metadata": {},
   "source": [
    "## 3.2 Соотношение пользователей с подпиской и без подписки"
   ]
  },
  {
   "cell_type": "code",
   "execution_count": 17,
   "id": "0644b63a",
   "metadata": {},
   "outputs": [
    {
     "data": {
      "text/plain": [
       "array([<AxesSubplot:ylabel='subscription_type'>], dtype=object)"
      ]
     },
     "execution_count": 17,
     "metadata": {},
     "output_type": "execute_result"
    },
    {
     "data": {
      "image/png": "[encoded data removed]",
      "text/plain": [
       "<Figure size 432x288 with 1 Axes>"
      ]
     },
     "metadata": {},
     "output_type": "display_data"
    }
   ],
   "source": [
    "#соотношение пользователей с подпиской и без подписки\n",
    "\n",
    "users['subscription_type'].value_counts().plot(kind='pie', subplots=True, autopct='%1.0f%%')"
   ]
  },
  {
   "cell_type": "markdown",
   "id": "5bea6d61",
   "metadata": {},
   "source": [
    "Соотношение стремится к равнозначному, при этом пользователей без подписки на 4 % больше(54%)"
   ]
  },
  {
   "cell_type": "markdown",
   "id": "42622412",
   "metadata": {},
   "source": [
    "## 3.3 Возраст пользователей"
   ]
  },
  {
   "cell_type": "code",
   "execution_count": 18,
   "id": "1455f8a5",
   "metadata": {},
   "outputs": [
    {
     "data": {
      "text/plain": [
       "count    1534.000000\n",
       "mean       24.903520\n",
       "std         4.572367\n",
       "min        12.000000\n",
       "25%        22.000000\n",
       "50%        25.000000\n",
       "75%        28.000000\n",
       "max        43.000000\n",
       "Name: age, dtype: float64"
      ]
     },
     "metadata": {},
     "output_type": "display_data"
    },
    {
     "data": {
      "text/plain": [
       "Text(0, 0.5, 'Количество пользователей')"
      ]
     },
     "execution_count": 18,
     "metadata": {},
     "output_type": "execute_result"
    },
    {
     "data": {
      "image/png": "[encoded data removed]",
      "text/plain": [
       "<Figure size 432x288 with 1 Axes>"
      ]
     },
     "metadata": {
      "needs_background": "light"
     },
     "output_type": "display_data"
    }
   ],
   "source": [
    "#распределение количества пользователей по их возрасту\n",
    "display(users['age'].describe()) \n",
    "users['age'].hist(bins = 20)\n",
    "plt.title('Распределение количества пользователей по их возрасту')\n",
    "plt.xlabel('Возраст')\n",
    "plt.ylabel('Количество пользователей')"
   ]
  },
  {
   "cell_type": "markdown",
   "id": "f44eb52f",
   "metadata": {},
   "source": [
    "Сервис популярен среди пользователей от 20 до 30 лет. самый молодой пользователь 12 лет и пока зарегистрирован возраст в 43 года является максимальным."
   ]
  },
  {
   "cell_type": "markdown",
   "id": "8a610c27",
   "metadata": {},
   "source": [
    "<div class=\"alert alert-success\">\n",
    "<b>Комментарий ревьюера:</b>☀️\n",
    "    \n",
    "Здесь вопрос, а законадательно возможна ли аренда столь юными пользователями. Такие факты хорошо бы проверять, выходя чуть за рамки непосредственно задания"
   ]
  },
  {
   "cell_type": "markdown",
   "id": "22d006fd",
   "metadata": {},
   "source": [
    "<div class=\"alert alert-info\"> <b>Комментарий студента:</b> Да стало интересно погрузится в эту тему, оказалось:\n",
    "\n",
    " - Прямого законодательного запрета на аренду самокатов закон не содержит: ст. 26 и ст. 28 ГК РФ вполне позволяют такие договоры считать мелкими бытовыми сделками, а их разрешено совершать с 6 лет без одобрения родителей – если деньги переданы были ребенку для свободного распоряжения.\n",
    " - Большинство фирм, сдающих самокаты в аренду, разрешают заключать договор только гражданам, достигшим 18 лет.\n",
    " - По закону сервисами кикшеринга могут пользоваться только те, кто достиг 18 лет.\n",
    "</div>"
   ]
  },
  {
   "cell_type": "markdown",
   "id": "1dd25b09",
   "metadata": {},
   "source": [
    "<div class=\"alert alert-success\">\n",
    "<b>Комментарий ревьюера v2:</b>☀️\n",
    "   \n",
    "\n",
    "Спасибо, можно было бы да сделать акцент на этой странности и поговорить предметнее с юридическим специалистом \n",
    "</div>"
   ]
  },
  {
   "cell_type": "markdown",
   "id": "83af7882",
   "metadata": {},
   "source": [
    "## 3.4 Расстояние, которое пользователь преодолел за одну поездку"
   ]
  },
  {
   "cell_type": "code",
   "execution_count": 19,
   "id": "706596e7",
   "metadata": {},
   "outputs": [],
   "source": [
    "# функция для исследовательского анализа \n",
    "\n",
    "def research(df, \n",
    "             parameter, \n",
    "             bins_1, \n",
    "             title,\n",
    "             xlabel, \n",
    "             ylabel):\n",
    "    display(df[parameter].describe())\n",
    "    df.boxplot(parameter)\n",
    "    plt.show()\n",
    "    df[parameter].hist(bins=bins_1)\n",
    "    plt.title(title)\n",
    "    plt.xlabel(xlabel)\n",
    "    plt.ylabel(ylabel)\n",
    "    plt.show()\n",
    "    \n",
    "    "
   ]
  },
  {
   "cell_type": "code",
   "execution_count": 20,
   "id": "470c81dd",
   "metadata": {},
   "outputs": [
    {
     "data": {
      "text/plain": [
       "count    18068.000000\n",
       "mean      3070.659976\n",
       "std       1116.831209\n",
       "min          0.855683\n",
       "25%       2543.226360\n",
       "50%       3133.609994\n",
       "75%       3776.222735\n",
       "max       7211.007745\n",
       "Name: distance, dtype: float64"
      ]
     },
     "metadata": {},
     "output_type": "display_data"
    },
    {
     "data": {
      "image/png": "[encoded data removed]",
      "text/plain": [
       "<Figure size 432x288 with 1 Axes>"
      ]
     },
     "metadata": {
      "needs_background": "light"
     },
     "output_type": "display_data"
    },
    {
     "data": {
      "image/png": "[encoded data removed]",
      "text/plain": [
       "<Figure size 432x288 with 1 Axes>"
      ]
     },
     "metadata": {
      "needs_background": "light"
     },
     "output_type": "display_data"
    }
   ],
   "source": [
    "research(rides,\n",
    "        'distance',\n",
    "        50,\n",
    "        'Распределение дистанции поездок',\n",
    "        'Расстояние',\n",
    "        'Количество поездок')"
   ]
  },
  {
   "cell_type": "code",
   "execution_count": 21,
   "id": "b71de4cd",
   "metadata": {},
   "outputs": [
    {
     "data": {
      "image/png": "[encoded data removed]",
      "text/plain": [
       "<Figure size 432x288 with 1 Axes>"
      ]
     },
     "metadata": {
      "needs_background": "light"
     },
     "output_type": "display_data"
    },
    {
     "data": {
      "image/png": "[encoded data removed]",
      "text/plain": [
       "<Figure size 432x288 with 1 Axes>"
      ]
     },
     "metadata": {
      "needs_background": "light"
     },
     "output_type": "display_data"
    }
   ],
   "source": [
    "def dist(min_range,max_range):\n",
    "    rides[['distance']].hist(bins=50, range=(min_range,max_range))\n",
    "    plt.title('Распределение дистанции поездок')\n",
    "    plt.xlabel('Расстояние')\n",
    "    plt.ylabel('Количество поездок')\n",
    "    plt.show() \n",
    "\n",
    "dist(0,900)\n",
    "dist(5770,7300)"
   ]
  },
  {
   "cell_type": "markdown",
   "id": "a012ea8f",
   "metadata": {},
   "source": [
    "#описательная статистика для сопровождения разброса числами\n",
    "display(rides[['distance']].describe()) \n",
    "#столбчатая диаграмма для демонстрации квартилей и выбросов\n",
    "rides.boxplot('distance') "
   ]
  },
  {
   "cell_type": "markdown",
   "id": "756af8be",
   "metadata": {},
   "source": [
    "Из этих данных посмотрю на гистограмме распределение количества значений так же выбросы в начале и конце"
   ]
  },
  {
   "cell_type": "markdown",
   "id": "6a39f24b",
   "metadata": {},
   "source": [
    "rides[['distance']].hist(bins=50, range=(0,7300))\n",
    "plt.show() \n",
    "rides[['distance']].hist(bins=50, range=(0,900))\n",
    "plt.show() \n",
    "rides[['distance']].hist(bins=50, range=(5770,7300))\n",
    "plt.show() "
   ]
  },
  {
   "cell_type": "markdown",
   "id": "a56fc2b2",
   "metadata": {},
   "source": [
    "<div class=\"alert alert-success\">\n",
    "<b>Комментарий ревьюера:</b>☀️\n",
    "    \n",
    "Наличие пары пиков дистанций наталкивает на мысль, что может быть несколько сценариев пользования приложением и с этими категориями стоит отдельно работать"
   ]
  },
  {
   "cell_type": "markdown",
   "id": "989affe4",
   "metadata": {},
   "source": [
    "## 3.5 Продолжительность поездок"
   ]
  },
  {
   "cell_type": "code",
   "execution_count": 22,
   "id": "5248512b",
   "metadata": {},
   "outputs": [
    {
     "data": {
      "text/plain": [
       "count    18068.000000\n",
       "mean        18.303520\n",
       "std          6.094928\n",
       "min          1.000000\n",
       "25%         14.000000\n",
       "50%         18.000000\n",
       "75%         22.000000\n",
       "max         41.000000\n",
       "Name: duration, dtype: float64"
      ]
     },
     "metadata": {},
     "output_type": "display_data"
    },
    {
     "data": {
      "image/png": "[encoded data removed]",
      "text/plain": [
       "<Figure size 432x288 with 1 Axes>"
      ]
     },
     "metadata": {
      "needs_background": "light"
     },
     "output_type": "display_data"
    },
    {
     "data": {
      "image/png": "[encoded data removed]",
      "text/plain": [
       "<Figure size 432x288 with 1 Axes>"
      ]
     },
     "metadata": {
      "needs_background": "light"
     },
     "output_type": "display_data"
    }
   ],
   "source": [
    "research(rides,\n",
    "        'duration',\n",
    "        20,\n",
    "        'Распределение времени поездок',\n",
    "        'Длительность поездки',\n",
    "        'Количество поездок')"
   ]
  },
  {
   "cell_type": "code",
   "execution_count": 23,
   "id": "67e5444d",
   "metadata": {},
   "outputs": [
    {
     "data": {
      "image/png": "[encoded data removed]",
      "text/plain": [
       "<Figure size 432x288 with 1 Axes>"
      ]
     },
     "metadata": {
      "needs_background": "light"
     },
     "output_type": "display_data"
    },
    {
     "data": {
      "image/png": "[encoded data removed]",
      "text/plain": [
       "<Figure size 432x288 with 1 Axes>"
      ]
     },
     "metadata": {
      "needs_background": "light"
     },
     "output_type": "display_data"
    }
   ],
   "source": [
    "def dur(min_range,max_range):\n",
    "    rides[['duration']].hist(bins=10, range=(min_range,max_range))\n",
    "    plt.title('Распределение времени поездок')\n",
    "    plt.xlabel('Длительность поездки')\n",
    "    plt.ylabel('Количество поездок')\n",
    "    plt.show() \n",
    "\n",
    "dur(0,5)\n",
    "dur(30,41)"
   ]
  },
  {
   "cell_type": "markdown",
   "id": "70a78d1c",
   "metadata": {},
   "source": [
    "\n",
    "display(rides[['duration']].describe()) \n",
    "\n",
    "rides.boxplot('duration') "
   ]
  },
  {
   "cell_type": "markdown",
   "id": "0ac1c7be",
   "metadata": {},
   "source": [
    "rides[['duration']].hist(bins=20, range=(0,41))\n",
    "plt.show() \n",
    "rides[['duration']].hist(bins=10, range=(0,5))\n",
    "plt.show() \n",
    "rides[['duration']].hist(bins=10, range=(30,41))\n",
    "plt.show() "
   ]
  },
  {
   "cell_type": "markdown",
   "id": "462f560e",
   "metadata": {},
   "source": [
    "<div class=\"alert alert-warning\">\n",
    "<b>Комментарий ревьюера:</b>⛅️ \n",
    "\n",
    "Рекомендовал бы внимательнее рассмотреть поездки, которые длились до минуты, это похоже на аномалии и стоит убедиться, короткие ли это поездки или какие-то сбои логирования\n",
    "</div>"
   ]
  },
  {
   "cell_type": "code",
   "execution_count": 24,
   "id": "73def397",
   "metadata": {},
   "outputs": [
    {
     "data": {
      "text/html": [
       "<div>\n",
       "<style scoped>\n",
       "    .dataframe tbody tr th:only-of-type {\n",
       "        vertical-align: middle;\n",
       "    }\n",
       "\n",
       "    .dataframe tbody tr th {\n",
       "        vertical-align: top;\n",
       "    }\n",
       "\n",
       "    .dataframe thead th {\n",
       "        text-align: right;\n",
       "    }\n",
       "</style>\n",
       "<table border=\"1\" class=\"dataframe\">\n",
       "  <thead>\n",
       "    <tr style=\"text-align: right;\">\n",
       "      <th></th>\n",
       "      <th>user_id</th>\n",
       "      <th>distance</th>\n",
       "      <th>duration</th>\n",
       "      <th>date</th>\n",
       "      <th>month</th>\n",
       "    </tr>\n",
       "  </thead>\n",
       "  <tbody>\n",
       "    <tr>\n",
       "      <th>6531</th>\n",
       "      <td>701</td>\n",
       "      <td>4196.445201</td>\n",
       "      <td>1.0</td>\n",
       "      <td>2021-08-31</td>\n",
       "      <td>8</td>\n",
       "    </tr>\n",
       "    <tr>\n",
       "      <th>6570</th>\n",
       "      <td>704</td>\n",
       "      <td>4830.824371</td>\n",
       "      <td>1.0</td>\n",
       "      <td>2021-10-14</td>\n",
       "      <td>10</td>\n",
       "    </tr>\n",
       "    <tr>\n",
       "      <th>6680</th>\n",
       "      <td>712</td>\n",
       "      <td>4684.004397</td>\n",
       "      <td>1.0</td>\n",
       "      <td>2021-03-04</td>\n",
       "      <td>3</td>\n",
       "    </tr>\n",
       "    <tr>\n",
       "      <th>6695</th>\n",
       "      <td>713</td>\n",
       "      <td>5215.642710</td>\n",
       "      <td>1.0</td>\n",
       "      <td>2021-02-25</td>\n",
       "      <td>2</td>\n",
       "    </tr>\n",
       "    <tr>\n",
       "      <th>6768</th>\n",
       "      <td>718</td>\n",
       "      <td>5197.436649</td>\n",
       "      <td>1.0</td>\n",
       "      <td>2021-02-11</td>\n",
       "      <td>2</td>\n",
       "    </tr>\n",
       "    <tr>\n",
       "      <th>...</th>\n",
       "      <td>...</td>\n",
       "      <td>...</td>\n",
       "      <td>...</td>\n",
       "      <td>...</td>\n",
       "      <td>...</td>\n",
       "    </tr>\n",
       "    <tr>\n",
       "      <th>17004</th>\n",
       "      <td>1460</td>\n",
       "      <td>5531.335845</td>\n",
       "      <td>1.0</td>\n",
       "      <td>2021-01-19</td>\n",
       "      <td>1</td>\n",
       "    </tr>\n",
       "    <tr>\n",
       "      <th>17242</th>\n",
       "      <td>1477</td>\n",
       "      <td>6724.932981</td>\n",
       "      <td>1.0</td>\n",
       "      <td>2021-01-12</td>\n",
       "      <td>1</td>\n",
       "    </tr>\n",
       "    <tr>\n",
       "      <th>17314</th>\n",
       "      <td>1483</td>\n",
       "      <td>4445.481070</td>\n",
       "      <td>1.0</td>\n",
       "      <td>2021-03-06</td>\n",
       "      <td>3</td>\n",
       "    </tr>\n",
       "    <tr>\n",
       "      <th>17505</th>\n",
       "      <td>1496</td>\n",
       "      <td>5722.551787</td>\n",
       "      <td>1.0</td>\n",
       "      <td>2021-02-14</td>\n",
       "      <td>2</td>\n",
       "    </tr>\n",
       "    <tr>\n",
       "      <th>17909</th>\n",
       "      <td>1524</td>\n",
       "      <td>4103.998874</td>\n",
       "      <td>1.0</td>\n",
       "      <td>2021-06-18</td>\n",
       "      <td>6</td>\n",
       "    </tr>\n",
       "  </tbody>\n",
       "</table>\n",
       "<p>95 rows × 5 columns</p>\n",
       "</div>"
      ],
      "text/plain": [
       "       user_id     distance  duration       date  month\n",
       "6531       701  4196.445201       1.0 2021-08-31      8\n",
       "6570       704  4830.824371       1.0 2021-10-14     10\n",
       "6680       712  4684.004397       1.0 2021-03-04      3\n",
       "6695       713  5215.642710       1.0 2021-02-25      2\n",
       "6768       718  5197.436649       1.0 2021-02-11      2\n",
       "...        ...          ...       ...        ...    ...\n",
       "17004     1460  5531.335845       1.0 2021-01-19      1\n",
       "17242     1477  6724.932981       1.0 2021-01-12      1\n",
       "17314     1483  4445.481070       1.0 2021-03-06      3\n",
       "17505     1496  5722.551787       1.0 2021-02-14      2\n",
       "17909     1524  4103.998874       1.0 2021-06-18      6\n",
       "\n",
       "[95 rows x 5 columns]"
      ]
     },
     "execution_count": 24,
     "metadata": {},
     "output_type": "execute_result"
    },
    {
     "data": {
      "image/png": "[encoded data removed]",
      "text/plain": [
       "<Figure size 432x288 with 1 Axes>"
      ]
     },
     "metadata": {
      "needs_background": "light"
     },
     "output_type": "display_data"
    }
   ],
   "source": [
    "rides_q = rides.loc[rides['duration'] <= 1]\n",
    "rides_q['distance'].hist(bins=50, range=(0,7300))\n",
    "rides_q"
   ]
  },
  {
   "cell_type": "markdown",
   "id": "7709c393",
   "metadata": {},
   "source": [
    "<div class=\"alert alert-info\"> <b>Комментарий студента:</b> Согласен. в этом случае могло и быть такое что время было бы в другом диапазоне и как такие аномалии выделить? строить соотношение времени с дистанцией? так делают? как это в коде выражают?\n",
    "</div>"
   ]
  },
  {
   "cell_type": "markdown",
   "id": "7d4bf9a0",
   "metadata": {},
   "source": [
    "<div class=\"alert alert-success\">\n",
    "<b>Комментарий ревьюера v2:</b>☀️\n",
    "   \n",
    "\n",
    "Мне нравится здесь идея посмотреть скорость поездок, если скорость какая-то аномально низкая или высокая - основание для доп рассмотрения \n",
    "</div>"
   ]
  },
  {
   "cell_type": "code",
   "execution_count": 25,
   "id": "dd5ff4c4",
   "metadata": {},
   "outputs": [],
   "source": [
    "rides = rides[rides['distance'] >= 500]\n",
    "rides = rides[rides['duration'] >= 4]"
   ]
  },
  {
   "cell_type": "code",
   "execution_count": 26,
   "id": "fc8545da",
   "metadata": {},
   "outputs": [
    {
     "data": {
      "text/plain": [
       "17411"
      ]
     },
     "execution_count": 26,
     "metadata": {},
     "output_type": "execute_result"
    }
   ],
   "source": [
    "len(rides)"
   ]
  },
  {
   "cell_type": "markdown",
   "id": "b3d79d42",
   "metadata": {},
   "source": [
    "<div class=\"alert alert-info\"> <b>Комментарий студента:</b> Комментарии к исследованию дистанции и времени, ниже. спасибо за твой комментарий про подписи графиков, когда их добавил понял что лучше функцией это сделать. Появился вопрос как обращаться  например к данным Q1 и Q3 (квартили) мне это нужно было для создания функции с параметрами в range для hist.\n",
    "    \n",
    "    например, как поставить параметр bins я понял:\n",
    "    \n",
    "    bins = df[parameter].max()-df[parameter].min()\n",
    "    \n",
    "    range = (df[parameter].min(), Q1)\n",
    "</div>\n",
    "<div class=\"alert alert-info\"> <b>Комментарий студента:</b> так хотел составить более универсальную функцию:    \n",
    "</div>"
   ]
  },
  {
   "cell_type": "markdown",
   "id": "7a7d0168",
   "metadata": {},
   "source": [
    "<div class=\"alert alert-success\">\n",
    "<b>Комментарий ревьюера v2:</b>☀️\n",
    "   \n",
    "Ниже попробовал, нужно к `int` привести `bins`, ну и не хватило задания Q1, Q3\n",
    "\n",
    "</div>"
   ]
  },
  {
   "cell_type": "code",
   "execution_count": 28,
   "id": "8e91228c",
   "metadata": {
    "scrolled": true
   },
   "outputs": [
    {
     "data": {
      "text/plain": [
       "count    17411.000000\n",
       "mean        18.690598\n",
       "std          5.800118\n",
       "min          4.000000\n",
       "25%         15.000000\n",
       "50%         18.000000\n",
       "75%         22.000000\n",
       "max         41.000000\n",
       "Name: duration, dtype: float64"
      ]
     },
     "metadata": {},
     "output_type": "display_data"
    },
    {
     "data": {
      "image/png": "[encoded data removed]",
      "text/plain": [
       "<Figure size 432x288 with 1 Axes>"
      ]
     },
     "metadata": {
      "needs_background": "light"
     },
     "output_type": "display_data"
    },
    {
     "data": {
      "image/png": "[encoded data removed]",
      "text/plain": [
       "<Figure size 432x288 with 1 Axes>"
      ]
     },
     "metadata": {
      "needs_background": "light"
     },
     "output_type": "display_data"
    },
    {
     "ename": "NameError",
     "evalue": "name 'Q1' is not defined",
     "output_type": "error",
     "traceback": [
      "\u001b[0;31m---------------------------------------------------------------------------\u001b[0m",
      "\u001b[0;31mNameError\u001b[0m                                 Traceback (most recent call last)",
      "\u001b[0;32m/tmp/ipykernel_78/4087530888.py\u001b[0m in \u001b[0;36m<module>\u001b[0;34m\u001b[0m\n\u001b[1;32m     19\u001b[0m     \u001b[0mhist_range\u001b[0m\u001b[0;34m(\u001b[0m\u001b[0mQ3\u001b[0m\u001b[0;34m,\u001b[0m \u001b[0mdf\u001b[0m\u001b[0;34m[\u001b[0m\u001b[0mparameter\u001b[0m\u001b[0;34m]\u001b[0m\u001b[0;34m.\u001b[0m\u001b[0mmax\u001b[0m\u001b[0;34m(\u001b[0m\u001b[0;34m)\u001b[0m\u001b[0;34m)\u001b[0m\u001b[0;34m\u001b[0m\u001b[0;34m\u001b[0m\u001b[0m\n\u001b[1;32m     20\u001b[0m \u001b[0;34m\u001b[0m\u001b[0m\n\u001b[0;32m---> 21\u001b[0;31m research(rides, 'duration',  \n\u001b[0m\u001b[1;32m     22\u001b[0m              \u001b[0;34m'title'\u001b[0m\u001b[0;34m,\u001b[0m\u001b[0;34m\u001b[0m\u001b[0;34m\u001b[0m\u001b[0m\n\u001b[1;32m     23\u001b[0m              \u001b[0;34m'xlabel'\u001b[0m\u001b[0;34m,\u001b[0m\u001b[0;34m\u001b[0m\u001b[0;34m\u001b[0m\u001b[0m\n",
      "\u001b[0;32m/tmp/ipykernel_78/4087530888.py\u001b[0m in \u001b[0;36mresearch\u001b[0;34m(df, parameter, title, xlabel, ylabel)\u001b[0m\n\u001b[1;32m     16\u001b[0m         \u001b[0mplt\u001b[0m\u001b[0;34m.\u001b[0m\u001b[0mshow\u001b[0m\u001b[0;34m(\u001b[0m\u001b[0;34m)\u001b[0m\u001b[0;34m\u001b[0m\u001b[0;34m\u001b[0m\u001b[0m\n\u001b[1;32m     17\u001b[0m     \u001b[0mhist_range\u001b[0m\u001b[0;34m(\u001b[0m\u001b[0mdf\u001b[0m\u001b[0;34m[\u001b[0m\u001b[0mparameter\u001b[0m\u001b[0;34m]\u001b[0m\u001b[0;34m.\u001b[0m\u001b[0mmin\u001b[0m\u001b[0;34m(\u001b[0m\u001b[0;34m)\u001b[0m\u001b[0;34m,\u001b[0m \u001b[0mdf\u001b[0m\u001b[0;34m[\u001b[0m\u001b[0mparameter\u001b[0m\u001b[0;34m]\u001b[0m\u001b[0;34m.\u001b[0m\u001b[0mmax\u001b[0m\u001b[0;34m(\u001b[0m\u001b[0;34m)\u001b[0m\u001b[0;34m)\u001b[0m\u001b[0;34m\u001b[0m\u001b[0;34m\u001b[0m\u001b[0m\n\u001b[0;32m---> 18\u001b[0;31m     \u001b[0mhist_range\u001b[0m\u001b[0;34m(\u001b[0m\u001b[0mdf\u001b[0m\u001b[0;34m[\u001b[0m\u001b[0mparameter\u001b[0m\u001b[0;34m]\u001b[0m\u001b[0;34m.\u001b[0m\u001b[0mmin\u001b[0m\u001b[0;34m(\u001b[0m\u001b[0;34m)\u001b[0m\u001b[0;34m,\u001b[0m \u001b[0mQ1\u001b[0m\u001b[0;34m)\u001b[0m\u001b[0;34m\u001b[0m\u001b[0;34m\u001b[0m\u001b[0m\n\u001b[0m\u001b[1;32m     19\u001b[0m     \u001b[0mhist_range\u001b[0m\u001b[0;34m(\u001b[0m\u001b[0mQ3\u001b[0m\u001b[0;34m,\u001b[0m \u001b[0mdf\u001b[0m\u001b[0;34m[\u001b[0m\u001b[0mparameter\u001b[0m\u001b[0;34m]\u001b[0m\u001b[0;34m.\u001b[0m\u001b[0mmax\u001b[0m\u001b[0;34m(\u001b[0m\u001b[0;34m)\u001b[0m\u001b[0;34m)\u001b[0m\u001b[0;34m\u001b[0m\u001b[0;34m\u001b[0m\u001b[0m\n\u001b[1;32m     20\u001b[0m \u001b[0;34m\u001b[0m\u001b[0m\n",
      "\u001b[0;31mNameError\u001b[0m: name 'Q1' is not defined"
     ]
    }
   ],
   "source": [
    "# Код ревьюера\n",
    "\n",
    "def research(df, \n",
    "             parameter,  \n",
    "             title,\n",
    "             xlabel, \n",
    "             ylabel):\n",
    "    display(df[parameter].describe())\n",
    "    df.boxplot(parameter)\n",
    "    plt.show()\n",
    "    def hist_range(min_range,max_range):\n",
    "        rides[['duration']].hist(\n",
    "            bins=int(df[parameter].max()-df[parameter].min()), \n",
    "            range=(min_range,max_range))\n",
    "        plt.title(title)\n",
    "        plt.xlabel(xlabel)\n",
    "        plt.ylabel(ylabel)\n",
    "        plt.show()\n",
    "    hist_range(df[parameter].min(), df[parameter].max())\n",
    "    hist_range(df[parameter].min(), Q1)\n",
    "    hist_range(Q3, df[parameter].max())\n",
    "    \n",
    "research(rides, 'duration',  \n",
    "             'title',\n",
    "             'xlabel', \n",
    "             'ylabel')"
   ]
  },
  {
   "cell_type": "markdown",
   "id": "d3beeee1",
   "metadata": {},
   "source": [
    "```\n",
    "def research(df, \n",
    "             parameter,  \n",
    "             title,\n",
    "             xlabel, \n",
    "             ylabel):\n",
    "    display(df[parameter].describe())\n",
    "    df.boxplot(parameter)\n",
    "    plt.show()\n",
    "    def hist_range(min_range,max_range):\n",
    "        rides[['duration']].hist(\n",
    "            bins=df[parameter].max()-df[parameter].min(), \n",
    "            range=(min_range,max_range))\n",
    "        plt.title(title)\n",
    "        plt.xlabel(xlabel)\n",
    "        plt.ylabel(ylabel)\n",
    "        plt.show()\n",
    "    hist_range(df[parameter].min(), df[parameter].max())\n",
    "    hist_range(df[parameter].min(), Q1)\n",
    "    hist_range(Q3, df[parameter].max())\n",
    "```\n",
    "   \n",
    "#это в принципе сработает?"
   ]
  },
  {
   "cell_type": "markdown",
   "id": "cca1240c",
   "metadata": {},
   "source": [
    "<div class=\"alert alert-info\"> <b>Комментарий студента:</b> Обобщающий комментарий по итогом шага:    \n",
    "</div>\n",
    "\n",
    "## Вывод шаг 3.\n",
    "\n",
    "Распределение дистанций поездок показывает два пика около 700 метров, и около 3200 метров. \n",
    "при этом\n",
    "Распределение времени поездок не показывает два пика.\n",
    "\n",
    "Интересное наблюдение в рамках данного проекта можно задать вопрос к новому исследованию с проверкой соотношения времени и дистанции а так же более глубинный срез по двум группам с пиками в дистанции 700 и 3200 метров о их истинных использований клиентами (до или от станции метро, остановки транспорта для меньшего пика и полноценная поездка по маршруту связанному с рабочим графиком, прогулки или проезд между достопримечательностями)\n",
    "\n",
    "Общая информация после анализа показывает:\n",
    " - Максимальная дистанция 7,2 км. чаще всего проезжают от 2,5 до 3,5 км есть отдельная группа с частотой использования около 700 метров.\n",
    " - По времени использования наблюдается равномерное распределение с более частым использованием примерно на 12-25 минут\n",
    " - найдены 95 наблюдений с чрезвычайно малым временем поездки (менее 1 минуты) и расстоянием в несколько километров🚀 требуется проверка записи данных.\n",
    "\n",
    "\n",
    "После небольшого среза остаются данные в 17394 сток из 18068, это на 3,7 %. Объективного влияния на проверку гипотез эти данные не окажут.\n"
   ]
  },
  {
   "cell_type": "markdown",
   "id": "af58671c",
   "metadata": {},
   "source": [
    "# 4. Шаг 4. Объединить данные"
   ]
  },
  {
   "cell_type": "markdown",
   "id": "aaaf0265",
   "metadata": {},
   "source": [
    "## 4.1 Объединить данные о пользователях и поездках с помощью .merge()"
   ]
  },
  {
   "cell_type": "code",
   "execution_count": 35,
   "id": "ef3a074d",
   "metadata": {},
   "outputs": [
    {
     "name": "stdout",
     "output_type": "stream",
     "text": [
      "<class 'pandas.core.frame.DataFrame'>\n",
      "Int64Index: 17411 entries, 0 to 17410\n",
      "Data columns (total 9 columns):\n",
      " #   Column             Non-Null Count  Dtype         \n",
      "---  ------             --------------  -----         \n",
      " 0   user_id            17411 non-null  int64         \n",
      " 1   distance           17411 non-null  float64       \n",
      " 2   duration           17411 non-null  float64       \n",
      " 3   date               17411 non-null  datetime64[ns]\n",
      " 4   month              17411 non-null  int64         \n",
      " 5   name               17411 non-null  object        \n",
      " 6   age                17411 non-null  int64         \n",
      " 7   city               17411 non-null  object        \n",
      " 8   subscription_type  17411 non-null  object        \n",
      "dtypes: datetime64[ns](1), float64(2), int64(3), object(3)\n",
      "memory usage: 1.3+ MB\n"
     ]
    },
    {
     "data": {
      "text/html": [
       "<div>\n",
       "<style scoped>\n",
       "    .dataframe tbody tr th:only-of-type {\n",
       "        vertical-align: middle;\n",
       "    }\n",
       "\n",
       "    .dataframe tbody tr th {\n",
       "        vertical-align: top;\n",
       "    }\n",
       "\n",
       "    .dataframe thead th {\n",
       "        text-align: right;\n",
       "    }\n",
       "</style>\n",
       "<table border=\"1\" class=\"dataframe\">\n",
       "  <thead>\n",
       "    <tr style=\"text-align: right;\">\n",
       "      <th></th>\n",
       "      <th>user_id</th>\n",
       "      <th>distance</th>\n",
       "      <th>duration</th>\n",
       "      <th>date</th>\n",
       "      <th>month</th>\n",
       "      <th>name</th>\n",
       "      <th>age</th>\n",
       "      <th>city</th>\n",
       "      <th>subscription_type</th>\n",
       "    </tr>\n",
       "  </thead>\n",
       "  <tbody>\n",
       "    <tr>\n",
       "      <th>0</th>\n",
       "      <td>1</td>\n",
       "      <td>4409.91914</td>\n",
       "      <td>26.0</td>\n",
       "      <td>2021-01-01</td>\n",
       "      <td>1</td>\n",
       "      <td>Кира</td>\n",
       "      <td>22</td>\n",
       "      <td>Тюмень</td>\n",
       "      <td>ultra</td>\n",
       "    </tr>\n",
       "  </tbody>\n",
       "</table>\n",
       "</div>"
      ],
      "text/plain": [
       "   user_id    distance  duration       date  month  name  age    city  \\\n",
       "0        1  4409.91914      26.0 2021-01-01      1  Кира   22  Тюмень   \n",
       "\n",
       "  subscription_type  \n",
       "0             ultra  "
      ]
     },
     "execution_count": 35,
     "metadata": {},
     "output_type": "execute_result"
    }
   ],
   "source": [
    "rides_user = rides.merge(users, on='user_id', how='left')\n",
    "rides_user.info()\n",
    "rides_user.head(1)"
   ]
  },
  {
   "cell_type": "markdown",
   "id": "76003e68",
   "metadata": {},
   "source": [
    "<div class=\"alert alert-danger\">\n",
    "<b>Комментарий ревьюера:</b>☁️\n",
    "\n",
    "* Прошу ещё добавить проверку, что после соединения таблиц не возникли пропуски, что размер объъединенной таблице соответствует ожиданиям\n",
    "* Не хватает комментариев по всей работе после каждой визуализации, или хотя бы обобщающие по итогам шага\n",
    "</div>"
   ]
  },
  {
   "cell_type": "markdown",
   "id": "6bdc3501",
   "metadata": {},
   "source": [
    "<div class=\"alert alert-info\"> <b>Комментарий студента:</b> и правда после метода .merge могут возникнуть пропуски. спасибо.\n",
    "    \n",
    "    На Яндекс практикум надейся, а сам на плошай!\n",
    "</div>\n",
    "\n",
    "После проверки общее количество строк соответствует данным по поездкам после среза 1711 во всех строчках"
   ]
  },
  {
   "cell_type": "markdown",
   "id": "a1e037cf",
   "metadata": {},
   "source": [
    "<div class=\"alert alert-success\">\n",
    "<b>Комментарий ревьюера v2:</b>☀️\n",
    "   \n",
    "Тут всё в порядке, но да, пару проектов критерии проверки просят добавлять такие проверки\n",
    "\n",
    "</div>"
   ]
  },
  {
   "cell_type": "code",
   "execution_count": 36,
   "id": "0b81805b",
   "metadata": {},
   "outputs": [
    {
     "name": "stderr",
     "output_type": "stream",
     "text": [
      "/tmp/ipykernel_78/3701098078.py:2: FutureWarning: Treating datetime data as categorical rather than numeric in `.describe` is deprecated and will be removed in a future version of pandas. Specify `datetime_is_numeric=True` to silence this warning and adopt the future behavior now.\n",
      "  rides_user.describe(include = \"all\")\n"
     ]
    },
    {
     "data": {
      "text/html": [
       "<div>\n",
       "<style scoped>\n",
       "    .dataframe tbody tr th:only-of-type {\n",
       "        vertical-align: middle;\n",
       "    }\n",
       "\n",
       "    .dataframe tbody tr th {\n",
       "        vertical-align: top;\n",
       "    }\n",
       "\n",
       "    .dataframe thead th {\n",
       "        text-align: right;\n",
       "    }\n",
       "</style>\n",
       "<table border=\"1\" class=\"dataframe\">\n",
       "  <thead>\n",
       "    <tr style=\"text-align: right;\">\n",
       "      <th></th>\n",
       "      <th>user_id</th>\n",
       "      <th>distance</th>\n",
       "      <th>duration</th>\n",
       "      <th>date</th>\n",
       "      <th>month</th>\n",
       "      <th>name</th>\n",
       "      <th>age</th>\n",
       "      <th>city</th>\n",
       "      <th>subscription_type</th>\n",
       "    </tr>\n",
       "  </thead>\n",
       "  <tbody>\n",
       "    <tr>\n",
       "      <th>count</th>\n",
       "      <td>17411.000000</td>\n",
       "      <td>17411.000000</td>\n",
       "      <td>17411.000000</td>\n",
       "      <td>17411</td>\n",
       "      <td>17411.000000</td>\n",
       "      <td>17411</td>\n",
       "      <td>17411.000000</td>\n",
       "      <td>17411</td>\n",
       "      <td>17411</td>\n",
       "    </tr>\n",
       "    <tr>\n",
       "      <th>unique</th>\n",
       "      <td>NaN</td>\n",
       "      <td>NaN</td>\n",
       "      <td>NaN</td>\n",
       "      <td>364</td>\n",
       "      <td>NaN</td>\n",
       "      <td>194</td>\n",
       "      <td>NaN</td>\n",
       "      <td>8</td>\n",
       "      <td>2</td>\n",
       "    </tr>\n",
       "    <tr>\n",
       "      <th>top</th>\n",
       "      <td>NaN</td>\n",
       "      <td>NaN</td>\n",
       "      <td>NaN</td>\n",
       "      <td>2021-12-22 00:00:00</td>\n",
       "      <td>NaN</td>\n",
       "      <td>Анна</td>\n",
       "      <td>NaN</td>\n",
       "      <td>Пятигорск</td>\n",
       "      <td>free</td>\n",
       "    </tr>\n",
       "    <tr>\n",
       "      <th>freq</th>\n",
       "      <td>NaN</td>\n",
       "      <td>NaN</td>\n",
       "      <td>NaN</td>\n",
       "      <td>69</td>\n",
       "      <td>NaN</td>\n",
       "      <td>302</td>\n",
       "      <td>NaN</td>\n",
       "      <td>2444</td>\n",
       "      <td>10926</td>\n",
       "    </tr>\n",
       "    <tr>\n",
       "      <th>first</th>\n",
       "      <td>NaN</td>\n",
       "      <td>NaN</td>\n",
       "      <td>NaN</td>\n",
       "      <td>2021-01-01 00:00:00</td>\n",
       "      <td>NaN</td>\n",
       "      <td>NaN</td>\n",
       "      <td>NaN</td>\n",
       "      <td>NaN</td>\n",
       "      <td>NaN</td>\n",
       "    </tr>\n",
       "    <tr>\n",
       "      <th>last</th>\n",
       "      <td>NaN</td>\n",
       "      <td>NaN</td>\n",
       "      <td>NaN</td>\n",
       "      <td>2021-12-30 00:00:00</td>\n",
       "      <td>NaN</td>\n",
       "      <td>NaN</td>\n",
       "      <td>NaN</td>\n",
       "      <td>NaN</td>\n",
       "      <td>NaN</td>\n",
       "    </tr>\n",
       "    <tr>\n",
       "      <th>mean</th>\n",
       "      <td>832.813279</td>\n",
       "      <td>3149.662126</td>\n",
       "      <td>18.690598</td>\n",
       "      <td>NaN</td>\n",
       "      <td>6.479812</td>\n",
       "      <td>NaN</td>\n",
       "      <td>24.884785</td>\n",
       "      <td>NaN</td>\n",
       "      <td>NaN</td>\n",
       "    </tr>\n",
       "    <tr>\n",
       "      <th>std</th>\n",
       "      <td>436.474730</td>\n",
       "      <td>1005.317316</td>\n",
       "      <td>5.800118</td>\n",
       "      <td>NaN</td>\n",
       "      <td>3.433588</td>\n",
       "      <td>NaN</td>\n",
       "      <td>4.587129</td>\n",
       "      <td>NaN</td>\n",
       "      <td>NaN</td>\n",
       "    </tr>\n",
       "    <tr>\n",
       "      <th>min</th>\n",
       "      <td>1.000000</td>\n",
       "      <td>500.435521</td>\n",
       "      <td>4.000000</td>\n",
       "      <td>NaN</td>\n",
       "      <td>1.000000</td>\n",
       "      <td>NaN</td>\n",
       "      <td>12.000000</td>\n",
       "      <td>NaN</td>\n",
       "      <td>NaN</td>\n",
       "    </tr>\n",
       "    <tr>\n",
       "      <th>25%</th>\n",
       "      <td>469.000000</td>\n",
       "      <td>2603.112363</td>\n",
       "      <td>15.000000</td>\n",
       "      <td>NaN</td>\n",
       "      <td>4.000000</td>\n",
       "      <td>NaN</td>\n",
       "      <td>22.000000</td>\n",
       "      <td>NaN</td>\n",
       "      <td>NaN</td>\n",
       "    </tr>\n",
       "    <tr>\n",
       "      <th>50%</th>\n",
       "      <td>876.000000</td>\n",
       "      <td>3157.560738</td>\n",
       "      <td>18.000000</td>\n",
       "      <td>NaN</td>\n",
       "      <td>6.000000</td>\n",
       "      <td>NaN</td>\n",
       "      <td>25.000000</td>\n",
       "      <td>NaN</td>\n",
       "      <td>NaN</td>\n",
       "    </tr>\n",
       "    <tr>\n",
       "      <th>75%</th>\n",
       "      <td>1206.000000</td>\n",
       "      <td>3792.137877</td>\n",
       "      <td>22.000000</td>\n",
       "      <td>NaN</td>\n",
       "      <td>9.000000</td>\n",
       "      <td>NaN</td>\n",
       "      <td>28.000000</td>\n",
       "      <td>NaN</td>\n",
       "      <td>NaN</td>\n",
       "    </tr>\n",
       "    <tr>\n",
       "      <th>max</th>\n",
       "      <td>1534.000000</td>\n",
       "      <td>7066.003772</td>\n",
       "      <td>41.000000</td>\n",
       "      <td>NaN</td>\n",
       "      <td>12.000000</td>\n",
       "      <td>NaN</td>\n",
       "      <td>43.000000</td>\n",
       "      <td>NaN</td>\n",
       "      <td>NaN</td>\n",
       "    </tr>\n",
       "  </tbody>\n",
       "</table>\n",
       "</div>"
      ],
      "text/plain": [
       "             user_id      distance      duration                 date  \\\n",
       "count   17411.000000  17411.000000  17411.000000                17411   \n",
       "unique           NaN           NaN           NaN                  364   \n",
       "top              NaN           NaN           NaN  2021-12-22 00:00:00   \n",
       "freq             NaN           NaN           NaN                   69   \n",
       "first            NaN           NaN           NaN  2021-01-01 00:00:00   \n",
       "last             NaN           NaN           NaN  2021-12-30 00:00:00   \n",
       "mean      832.813279   3149.662126     18.690598                  NaN   \n",
       "std       436.474730   1005.317316      5.800118                  NaN   \n",
       "min         1.000000    500.435521      4.000000                  NaN   \n",
       "25%       469.000000   2603.112363     15.000000                  NaN   \n",
       "50%       876.000000   3157.560738     18.000000                  NaN   \n",
       "75%      1206.000000   3792.137877     22.000000                  NaN   \n",
       "max      1534.000000   7066.003772     41.000000                  NaN   \n",
       "\n",
       "               month   name           age       city subscription_type  \n",
       "count   17411.000000  17411  17411.000000      17411             17411  \n",
       "unique           NaN    194           NaN          8                 2  \n",
       "top              NaN   Анна           NaN  Пятигорск              free  \n",
       "freq             NaN    302           NaN       2444             10926  \n",
       "first            NaN    NaN           NaN        NaN               NaN  \n",
       "last             NaN    NaN           NaN        NaN               NaN  \n",
       "mean        6.479812    NaN     24.884785        NaN               NaN  \n",
       "std         3.433588    NaN      4.587129        NaN               NaN  \n",
       "min         1.000000    NaN     12.000000        NaN               NaN  \n",
       "25%         4.000000    NaN     22.000000        NaN               NaN  \n",
       "50%         6.000000    NaN     25.000000        NaN               NaN  \n",
       "75%         9.000000    NaN     28.000000        NaN               NaN  \n",
       "max        12.000000    NaN     43.000000        NaN               NaN  "
      ]
     },
     "execution_count": 36,
     "metadata": {},
     "output_type": "execute_result"
    }
   ],
   "source": [
    "# нашел для себя интересный способ проверки пропусков\n",
    "rides_user.describe(include = \"all\")"
   ]
  },
  {
   "cell_type": "markdown",
   "id": "948e3beb",
   "metadata": {},
   "source": [
    "Для категориальных признаков этот метод показывает: \n",
    "- Сколько уникальных значений в наборе данных - unique; \n",
    "- top значения; \n",
    "- частота появления значений - freg."
   ]
  },
  {
   "cell_type": "markdown",
   "id": "f1c10ab9",
   "metadata": {},
   "source": [
    "<div class=\"alert alert-info\"> <b>Комментарий студента:</b> Новые наблюдения стоит отметить:\n",
    "    \n",
    "    - период исследования 2021 год с 1 января по 30 декабря\n",
    "    - уникальных имен зарегистрировано  194 шт.\n",
    "    - самое частое имя пользователя `Анна`\n",
    "    - Пятигорск не только в лидерах по количеству пользователей но и так же лидер по количеству поездок\n",
    "</div>"
   ]
  },
  {
   "cell_type": "markdown",
   "id": "0056eab4",
   "metadata": {},
   "source": [
    "## 4.2 Создание ещё двух датафреймов из датафрейма, созданного на этапе 4.1:\n",
    " - c данными о пользователях без подписки;\n",
    " - с данными о пользователях с подпиской."
   ]
  },
  {
   "cell_type": "code",
   "execution_count": 37,
   "id": "420a8c66",
   "metadata": {},
   "outputs": [
    {
     "data": {
      "text/html": [
       "<div>\n",
       "<style scoped>\n",
       "    .dataframe tbody tr th:only-of-type {\n",
       "        vertical-align: middle;\n",
       "    }\n",
       "\n",
       "    .dataframe tbody tr th {\n",
       "        vertical-align: top;\n",
       "    }\n",
       "\n",
       "    .dataframe thead th {\n",
       "        text-align: right;\n",
       "    }\n",
       "</style>\n",
       "<table border=\"1\" class=\"dataframe\">\n",
       "  <thead>\n",
       "    <tr style=\"text-align: right;\">\n",
       "      <th></th>\n",
       "      <th>user_id</th>\n",
       "      <th>distance</th>\n",
       "      <th>duration</th>\n",
       "      <th>date</th>\n",
       "      <th>month</th>\n",
       "      <th>name</th>\n",
       "      <th>age</th>\n",
       "      <th>city</th>\n",
       "      <th>subscription_type</th>\n",
       "    </tr>\n",
       "  </thead>\n",
       "  <tbody>\n",
       "    <tr>\n",
       "      <th>0</th>\n",
       "      <td>1</td>\n",
       "      <td>4409.919140</td>\n",
       "      <td>26.0</td>\n",
       "      <td>2021-01-01</td>\n",
       "      <td>1</td>\n",
       "      <td>Кира</td>\n",
       "      <td>22</td>\n",
       "      <td>Тюмень</td>\n",
       "      <td>ultra</td>\n",
       "    </tr>\n",
       "    <tr>\n",
       "      <th>1</th>\n",
       "      <td>1</td>\n",
       "      <td>2617.592153</td>\n",
       "      <td>16.0</td>\n",
       "      <td>2021-01-18</td>\n",
       "      <td>1</td>\n",
       "      <td>Кира</td>\n",
       "      <td>22</td>\n",
       "      <td>Тюмень</td>\n",
       "      <td>ultra</td>\n",
       "    </tr>\n",
       "    <tr>\n",
       "      <th>2</th>\n",
       "      <td>1</td>\n",
       "      <td>754.159807</td>\n",
       "      <td>7.0</td>\n",
       "      <td>2021-04-20</td>\n",
       "      <td>4</td>\n",
       "      <td>Кира</td>\n",
       "      <td>22</td>\n",
       "      <td>Тюмень</td>\n",
       "      <td>ultra</td>\n",
       "    </tr>\n",
       "    <tr>\n",
       "      <th>3</th>\n",
       "      <td>1</td>\n",
       "      <td>2694.783254</td>\n",
       "      <td>19.0</td>\n",
       "      <td>2021-08-11</td>\n",
       "      <td>8</td>\n",
       "      <td>Кира</td>\n",
       "      <td>22</td>\n",
       "      <td>Тюмень</td>\n",
       "      <td>ultra</td>\n",
       "    </tr>\n",
       "    <tr>\n",
       "      <th>4</th>\n",
       "      <td>1</td>\n",
       "      <td>4028.687306</td>\n",
       "      <td>27.0</td>\n",
       "      <td>2021-08-28</td>\n",
       "      <td>8</td>\n",
       "      <td>Кира</td>\n",
       "      <td>22</td>\n",
       "      <td>Тюмень</td>\n",
       "      <td>ultra</td>\n",
       "    </tr>\n",
       "    <tr>\n",
       "      <th>...</th>\n",
       "      <td>...</td>\n",
       "      <td>...</td>\n",
       "      <td>...</td>\n",
       "      <td>...</td>\n",
       "      <td>...</td>\n",
       "      <td>...</td>\n",
       "      <td>...</td>\n",
       "      <td>...</td>\n",
       "      <td>...</td>\n",
       "    </tr>\n",
       "    <tr>\n",
       "      <th>6480</th>\n",
       "      <td>699</td>\n",
       "      <td>3973.046497</td>\n",
       "      <td>25.0</td>\n",
       "      <td>2021-08-29</td>\n",
       "      <td>8</td>\n",
       "      <td>Оксана</td>\n",
       "      <td>22</td>\n",
       "      <td>Москва</td>\n",
       "      <td>ultra</td>\n",
       "    </tr>\n",
       "    <tr>\n",
       "      <th>6481</th>\n",
       "      <td>699</td>\n",
       "      <td>3288.702563</td>\n",
       "      <td>16.0</td>\n",
       "      <td>2021-09-12</td>\n",
       "      <td>9</td>\n",
       "      <td>Оксана</td>\n",
       "      <td>22</td>\n",
       "      <td>Москва</td>\n",
       "      <td>ultra</td>\n",
       "    </tr>\n",
       "    <tr>\n",
       "      <th>6482</th>\n",
       "      <td>699</td>\n",
       "      <td>3076.159348</td>\n",
       "      <td>15.0</td>\n",
       "      <td>2021-09-26</td>\n",
       "      <td>9</td>\n",
       "      <td>Оксана</td>\n",
       "      <td>22</td>\n",
       "      <td>Москва</td>\n",
       "      <td>ultra</td>\n",
       "    </tr>\n",
       "    <tr>\n",
       "      <th>6483</th>\n",
       "      <td>699</td>\n",
       "      <td>4707.845501</td>\n",
       "      <td>16.0</td>\n",
       "      <td>2021-10-17</td>\n",
       "      <td>10</td>\n",
       "      <td>Оксана</td>\n",
       "      <td>22</td>\n",
       "      <td>Москва</td>\n",
       "      <td>ultra</td>\n",
       "    </tr>\n",
       "    <tr>\n",
       "      <th>6484</th>\n",
       "      <td>699</td>\n",
       "      <td>3202.890770</td>\n",
       "      <td>26.0</td>\n",
       "      <td>2021-12-03</td>\n",
       "      <td>12</td>\n",
       "      <td>Оксана</td>\n",
       "      <td>22</td>\n",
       "      <td>Москва</td>\n",
       "      <td>ultra</td>\n",
       "    </tr>\n",
       "  </tbody>\n",
       "</table>\n",
       "<p>6485 rows × 9 columns</p>\n",
       "</div>"
      ],
      "text/plain": [
       "      user_id     distance  duration       date  month    name  age    city  \\\n",
       "0           1  4409.919140      26.0 2021-01-01      1    Кира   22  Тюмень   \n",
       "1           1  2617.592153      16.0 2021-01-18      1    Кира   22  Тюмень   \n",
       "2           1   754.159807       7.0 2021-04-20      4    Кира   22  Тюмень   \n",
       "3           1  2694.783254      19.0 2021-08-11      8    Кира   22  Тюмень   \n",
       "4           1  4028.687306      27.0 2021-08-28      8    Кира   22  Тюмень   \n",
       "...       ...          ...       ...        ...    ...     ...  ...     ...   \n",
       "6480      699  3973.046497      25.0 2021-08-29      8  Оксана   22  Москва   \n",
       "6481      699  3288.702563      16.0 2021-09-12      9  Оксана   22  Москва   \n",
       "6482      699  3076.159348      15.0 2021-09-26      9  Оксана   22  Москва   \n",
       "6483      699  4707.845501      16.0 2021-10-17     10  Оксана   22  Москва   \n",
       "6484      699  3202.890770      26.0 2021-12-03     12  Оксана   22  Москва   \n",
       "\n",
       "     subscription_type  \n",
       "0                ultra  \n",
       "1                ultra  \n",
       "2                ultra  \n",
       "3                ultra  \n",
       "4                ultra  \n",
       "...                ...  \n",
       "6480             ultra  \n",
       "6481             ultra  \n",
       "6482             ultra  \n",
       "6483             ultra  \n",
       "6484             ultra  \n",
       "\n",
       "[6485 rows x 9 columns]"
      ]
     },
     "execution_count": 37,
     "metadata": {},
     "output_type": "execute_result"
    }
   ],
   "source": [
    "rides_user_ultra = rides_user.loc[rides_user['subscription_type'] == 'ultra']\n",
    "rides_user_ultra"
   ]
  },
  {
   "cell_type": "code",
   "execution_count": 38,
   "id": "75bbf9af",
   "metadata": {},
   "outputs": [
    {
     "data": {
      "text/html": [
       "<div>\n",
       "<style scoped>\n",
       "    .dataframe tbody tr th:only-of-type {\n",
       "        vertical-align: middle;\n",
       "    }\n",
       "\n",
       "    .dataframe tbody tr th {\n",
       "        vertical-align: top;\n",
       "    }\n",
       "\n",
       "    .dataframe thead th {\n",
       "        text-align: right;\n",
       "    }\n",
       "</style>\n",
       "<table border=\"1\" class=\"dataframe\">\n",
       "  <thead>\n",
       "    <tr style=\"text-align: right;\">\n",
       "      <th></th>\n",
       "      <th>user_id</th>\n",
       "      <th>distance</th>\n",
       "      <th>duration</th>\n",
       "      <th>date</th>\n",
       "      <th>month</th>\n",
       "      <th>name</th>\n",
       "      <th>age</th>\n",
       "      <th>city</th>\n",
       "      <th>subscription_type</th>\n",
       "    </tr>\n",
       "  </thead>\n",
       "  <tbody>\n",
       "    <tr>\n",
       "      <th>6485</th>\n",
       "      <td>700</td>\n",
       "      <td>2515.690719</td>\n",
       "      <td>15.0</td>\n",
       "      <td>2021-01-02</td>\n",
       "      <td>1</td>\n",
       "      <td>Айдар</td>\n",
       "      <td>22</td>\n",
       "      <td>Омск</td>\n",
       "      <td>free</td>\n",
       "    </tr>\n",
       "    <tr>\n",
       "      <th>6486</th>\n",
       "      <td>700</td>\n",
       "      <td>846.932642</td>\n",
       "      <td>17.0</td>\n",
       "      <td>2021-02-01</td>\n",
       "      <td>2</td>\n",
       "      <td>Айдар</td>\n",
       "      <td>22</td>\n",
       "      <td>Омск</td>\n",
       "      <td>free</td>\n",
       "    </tr>\n",
       "    <tr>\n",
       "      <th>6487</th>\n",
       "      <td>700</td>\n",
       "      <td>4004.434142</td>\n",
       "      <td>21.0</td>\n",
       "      <td>2021-02-04</td>\n",
       "      <td>2</td>\n",
       "      <td>Айдар</td>\n",
       "      <td>22</td>\n",
       "      <td>Омск</td>\n",
       "      <td>free</td>\n",
       "    </tr>\n",
       "    <tr>\n",
       "      <th>6488</th>\n",
       "      <td>700</td>\n",
       "      <td>1205.911290</td>\n",
       "      <td>10.0</td>\n",
       "      <td>2021-02-10</td>\n",
       "      <td>2</td>\n",
       "      <td>Айдар</td>\n",
       "      <td>22</td>\n",
       "      <td>Омск</td>\n",
       "      <td>free</td>\n",
       "    </tr>\n",
       "    <tr>\n",
       "      <th>6489</th>\n",
       "      <td>700</td>\n",
       "      <td>3047.379435</td>\n",
       "      <td>18.0</td>\n",
       "      <td>2021-02-14</td>\n",
       "      <td>2</td>\n",
       "      <td>Айдар</td>\n",
       "      <td>22</td>\n",
       "      <td>Омск</td>\n",
       "      <td>free</td>\n",
       "    </tr>\n",
       "    <tr>\n",
       "      <th>...</th>\n",
       "      <td>...</td>\n",
       "      <td>...</td>\n",
       "      <td>...</td>\n",
       "      <td>...</td>\n",
       "      <td>...</td>\n",
       "      <td>...</td>\n",
       "      <td>...</td>\n",
       "      <td>...</td>\n",
       "      <td>...</td>\n",
       "    </tr>\n",
       "    <tr>\n",
       "      <th>17406</th>\n",
       "      <td>1534</td>\n",
       "      <td>3781.098080</td>\n",
       "      <td>20.0</td>\n",
       "      <td>2021-11-04</td>\n",
       "      <td>11</td>\n",
       "      <td>Альберт</td>\n",
       "      <td>25</td>\n",
       "      <td>Краснодар</td>\n",
       "      <td>free</td>\n",
       "    </tr>\n",
       "    <tr>\n",
       "      <th>17407</th>\n",
       "      <td>1534</td>\n",
       "      <td>2840.423057</td>\n",
       "      <td>22.0</td>\n",
       "      <td>2021-11-16</td>\n",
       "      <td>11</td>\n",
       "      <td>Альберт</td>\n",
       "      <td>25</td>\n",
       "      <td>Краснодар</td>\n",
       "      <td>free</td>\n",
       "    </tr>\n",
       "    <tr>\n",
       "      <th>17408</th>\n",
       "      <td>1534</td>\n",
       "      <td>3826.185507</td>\n",
       "      <td>19.0</td>\n",
       "      <td>2021-11-18</td>\n",
       "      <td>11</td>\n",
       "      <td>Альберт</td>\n",
       "      <td>25</td>\n",
       "      <td>Краснодар</td>\n",
       "      <td>free</td>\n",
       "    </tr>\n",
       "    <tr>\n",
       "      <th>17409</th>\n",
       "      <td>1534</td>\n",
       "      <td>2902.308661</td>\n",
       "      <td>17.0</td>\n",
       "      <td>2021-11-27</td>\n",
       "      <td>11</td>\n",
       "      <td>Альберт</td>\n",
       "      <td>25</td>\n",
       "      <td>Краснодар</td>\n",
       "      <td>free</td>\n",
       "    </tr>\n",
       "    <tr>\n",
       "      <th>17410</th>\n",
       "      <td>1534</td>\n",
       "      <td>2371.711192</td>\n",
       "      <td>16.0</td>\n",
       "      <td>2021-12-29</td>\n",
       "      <td>12</td>\n",
       "      <td>Альберт</td>\n",
       "      <td>25</td>\n",
       "      <td>Краснодар</td>\n",
       "      <td>free</td>\n",
       "    </tr>\n",
       "  </tbody>\n",
       "</table>\n",
       "<p>10926 rows × 9 columns</p>\n",
       "</div>"
      ],
      "text/plain": [
       "       user_id     distance  duration       date  month     name  age  \\\n",
       "6485       700  2515.690719      15.0 2021-01-02      1    Айдар   22   \n",
       "6486       700   846.932642      17.0 2021-02-01      2    Айдар   22   \n",
       "6487       700  4004.434142      21.0 2021-02-04      2    Айдар   22   \n",
       "6488       700  1205.911290      10.0 2021-02-10      2    Айдар   22   \n",
       "6489       700  3047.379435      18.0 2021-02-14      2    Айдар   22   \n",
       "...        ...          ...       ...        ...    ...      ...  ...   \n",
       "17406     1534  3781.098080      20.0 2021-11-04     11  Альберт   25   \n",
       "17407     1534  2840.423057      22.0 2021-11-16     11  Альберт   25   \n",
       "17408     1534  3826.185507      19.0 2021-11-18     11  Альберт   25   \n",
       "17409     1534  2902.308661      17.0 2021-11-27     11  Альберт   25   \n",
       "17410     1534  2371.711192      16.0 2021-12-29     12  Альберт   25   \n",
       "\n",
       "            city subscription_type  \n",
       "6485        Омск              free  \n",
       "6486        Омск              free  \n",
       "6487        Омск              free  \n",
       "6488        Омск              free  \n",
       "6489        Омск              free  \n",
       "...          ...               ...  \n",
       "17406  Краснодар              free  \n",
       "17407  Краснодар              free  \n",
       "17408  Краснодар              free  \n",
       "17409  Краснодар              free  \n",
       "17410  Краснодар              free  \n",
       "\n",
       "[10926 rows x 9 columns]"
      ]
     },
     "execution_count": 38,
     "metadata": {},
     "output_type": "execute_result"
    }
   ],
   "source": [
    "rides_user_free = rides_user.loc[rides_user['subscription_type'] == 'free']\n",
    "rides_user_free"
   ]
  },
  {
   "cell_type": "markdown",
   "id": "2af517d7",
   "metadata": {},
   "source": [
    "<div class=\"alert alert-info\"> <b>Комментарий студента:</b> ниже это к следующему комментарию. Переделал вместо двух разных гистограмм, одну с возможностью наложить данные друг на друга\n",
    "</div>"
   ]
  },
  {
   "cell_type": "markdown",
   "id": "baded57c",
   "metadata": {},
   "source": [
    "## 4.3 Визуализация информации о расстоянии и времени поездок для пользователей обеих категорий."
   ]
  },
  {
   "cell_type": "code",
   "execution_count": 39,
   "id": "3a7050ed",
   "metadata": {},
   "outputs": [
    {
     "data": {
      "image/png": "[encoded data removed]",
      "text/plain": [
       "<Figure size 432x288 with 1 Axes>"
      ]
     },
     "metadata": {
      "needs_background": "light"
     },
     "output_type": "display_data"
    }
   ],
   "source": [
    "plt.hist(rides_user_ultra['duration'], bins=20, alpha=0.45, color='red') \n",
    "plt.hist(rides_user_free[['duration']], bins=20, alpha=0.45, color='blue')\n",
    "plt.axvline(x=rides_user_ultra['duration'].median(), color='red')\n",
    "plt.axvline(x=rides_user_free['duration'].median(), color='blue')\n",
    "plt.title('Распределение времени поездок клиентов')\n",
    "plt.xlabel('Время поездки')\n",
    "plt.ylabel('Частота значения')\n",
    "plt.legend(['Тариф Ultra',  \n",
    "            'Тариф Free'])\n",
    "\n",
    "plt.annotate(\"Медианы\", xy=(20, 1000), xytext=(30, 1000),\n",
    "            arrowprops=dict(facecolor='black', shrink=0.01))\n",
    "\n",
    "plt.show() "
   ]
  },
  {
   "cell_type": "markdown",
   "id": "33b5460b",
   "metadata": {},
   "source": [
    "<div class=\"alert alert-danger\">\n",
    "<b>Комментарий ревьюера:</b>☁️\n",
    "\n",
    "А здесь напомню о важности подписывать оси и добавлять заголовок графикам\n",
    "</div>"
   ]
  },
  {
   "cell_type": "code",
   "execution_count": 40,
   "id": "2923545b",
   "metadata": {},
   "outputs": [
    {
     "data": {
      "image/png": "[encoded data removed]",
      "text/plain": [
       "<Figure size 432x288 with 1 Axes>"
      ]
     },
     "metadata": {
      "needs_background": "light"
     },
     "output_type": "display_data"
    }
   ],
   "source": [
    "plt.hist(rides_user_ultra['distance'], bins=50, alpha=0.45, color='red') \n",
    "plt.hist(rides_user_free[['distance']], bins=50, alpha=0.45, color='blue')\n",
    "plt.axvline(x=rides_user_ultra['distance'].median(), color='red')\n",
    "plt.axvline(x=rides_user_free['distance'].median(), color='blue')\n",
    "plt.title('Распределение дистанции поездок клиентов')\n",
    "plt.xlabel('Дистанция поездки')\n",
    "plt.ylabel('Частота значения')\n",
    "plt.legend(['Тариф Ultra',  \n",
    "            'Тариф Free'])\n",
    "plt.annotate(\"Медианы\", xy=(3200, 200), xytext=(5000, 300),\n",
    "            arrowprops=dict(facecolor='black', shrink=0.02))\n",
    "\n",
    "plt.show() "
   ]
  },
  {
   "cell_type": "markdown",
   "id": "cb4fe68f",
   "metadata": {},
   "source": [
    "<div class=\"alert alert-success\">\n",
    "<b>Комментарий ревьюера:</b>☀️\n",
    "    \n",
    "* Проще сравнивать распределения на одном графике, поэтому рекомендовал бы продолжительность двух категорий расположить на одном графике, аналогично с расстоянием\n",
    "* На графиках отлично смотрится среднее или медиана, как дополнительное опорной значение, вот [тут](https://stackoverflow.com/questions/16930328/vertical-horizontal-lines-in-matplotlib) можно посмотреть, как добавить такую визуализацию"
   ]
  },
  {
   "cell_type": "markdown",
   "id": "6c88e45e",
   "metadata": {},
   "source": [
    "<div class=\"alert alert-info\"> <b>Комментарий студента:</b> Спасибо, да так лучше \n",
    "</div>"
   ]
  },
  {
   "cell_type": "markdown",
   "id": "39810df0",
   "metadata": {},
   "source": [
    "<div class=\"alert alert-success\">\n",
    "<b>Комментарий ревьюера v2:</b>☀️\n",
    "   \n",
    "Со стрелочкой изящно кстати, спасибо!)\n",
    "\n",
    "</div>"
   ]
  },
  {
   "cell_type": "markdown",
   "id": "8c5cb049",
   "metadata": {},
   "source": [
    "Исходные данные соединили в одну таблицу где видим новые наблюдения, что важно для нас:\n",
    " - при распределении поездок согласно их тарифам: почти 6,5 тысяч были сделаны клиентами с подпиской и около 11 тысяч клиентами без подписки. соотношение 37% и 63 % соответственно.\n",
    " - Распределения по графикам времени и дистанции схожи не считая частоты использования, Распределения нормальны.\n",
    " - Следует отметить что у обоих групп имеются два пика на небольших расстояниях около 1 км и около 3км. разброс данных клиентов с подпиской меньше.\n",
    " - Медианные значения близки друг к другу, немногим выше среднее время поездки а дистанция отличается не значительно.\n",
    "        "
   ]
  },
  {
   "cell_type": "code",
   "execution_count": 41,
   "id": "c39a0146",
   "metadata": {},
   "outputs": [
    {
     "data": {
      "image/png": "[encoded data removed]",
      "text/plain": [
       "<Figure size 432x288 with 1 Axes>"
      ]
     },
     "metadata": {
      "needs_background": "light"
     },
     "output_type": "display_data"
    },
    {
     "data": {
      "image/png": "[encoded data removed]",
      "text/plain": [
       "<Figure size 432x288 with 1 Axes>"
      ]
     },
     "metadata": {
      "needs_background": "light"
     },
     "output_type": "display_data"
    }
   ],
   "source": [
    "rides_user_ultra[['distance']].hist(bins=50, range=(0,7300))\n",
    "plt.show() \n",
    "rides_user_free[['distance']].hist(bins=50, range=(0,7300))\n",
    "plt.show() "
   ]
  },
  {
   "cell_type": "markdown",
   "id": "30e74db4",
   "metadata": {},
   "source": [
    "# Шаг 5. Подсчёт выручки"
   ]
  },
  {
   "cell_type": "code",
   "execution_count": 42,
   "id": "04a767a6",
   "metadata": {},
   "outputs": [
    {
     "data": {
      "text/html": [
       "<div>\n",
       "<style scoped>\n",
       "    .dataframe tbody tr th:only-of-type {\n",
       "        vertical-align: middle;\n",
       "    }\n",
       "\n",
       "    .dataframe tbody tr th {\n",
       "        vertical-align: top;\n",
       "    }\n",
       "\n",
       "    .dataframe thead th {\n",
       "        text-align: right;\n",
       "    }\n",
       "</style>\n",
       "<table border=\"1\" class=\"dataframe\">\n",
       "  <thead>\n",
       "    <tr style=\"text-align: right;\">\n",
       "      <th></th>\n",
       "      <th>subscription_type</th>\n",
       "      <th>month</th>\n",
       "      <th>user_id</th>\n",
       "      <th>sum_distance</th>\n",
       "      <th>sum_duration</th>\n",
       "      <th>count_rides</th>\n",
       "    </tr>\n",
       "  </thead>\n",
       "  <tbody>\n",
       "    <tr>\n",
       "      <th>0</th>\n",
       "      <td>free</td>\n",
       "      <td>1</td>\n",
       "      <td>700</td>\n",
       "      <td>2515.690719</td>\n",
       "      <td>15.0</td>\n",
       "      <td>1</td>\n",
       "    </tr>\n",
       "    <tr>\n",
       "      <th>1</th>\n",
       "      <td>free</td>\n",
       "      <td>1</td>\n",
       "      <td>701</td>\n",
       "      <td>2676.472894</td>\n",
       "      <td>18.0</td>\n",
       "      <td>1</td>\n",
       "    </tr>\n",
       "    <tr>\n",
       "      <th>2</th>\n",
       "      <td>free</td>\n",
       "      <td>1</td>\n",
       "      <td>702</td>\n",
       "      <td>903.861985</td>\n",
       "      <td>16.0</td>\n",
       "      <td>1</td>\n",
       "    </tr>\n",
       "    <tr>\n",
       "      <th>3</th>\n",
       "      <td>free</td>\n",
       "      <td>1</td>\n",
       "      <td>703</td>\n",
       "      <td>3406.580225</td>\n",
       "      <td>24.0</td>\n",
       "      <td>1</td>\n",
       "    </tr>\n",
       "    <tr>\n",
       "      <th>4</th>\n",
       "      <td>free</td>\n",
       "      <td>1</td>\n",
       "      <td>704</td>\n",
       "      <td>3197.139639</td>\n",
       "      <td>18.0</td>\n",
       "      <td>1</td>\n",
       "    </tr>\n",
       "    <tr>\n",
       "      <th>...</th>\n",
       "      <td>...</td>\n",
       "      <td>...</td>\n",
       "      <td>...</td>\n",
       "      <td>...</td>\n",
       "      <td>...</td>\n",
       "      <td>...</td>\n",
       "    </tr>\n",
       "    <tr>\n",
       "      <th>11109</th>\n",
       "      <td>ultra</td>\n",
       "      <td>12</td>\n",
       "      <td>688</td>\n",
       "      <td>4004.404223</td>\n",
       "      <td>24.0</td>\n",
       "      <td>1</td>\n",
       "    </tr>\n",
       "    <tr>\n",
       "      <th>11110</th>\n",
       "      <td>ultra</td>\n",
       "      <td>12</td>\n",
       "      <td>689</td>\n",
       "      <td>3387.343067</td>\n",
       "      <td>19.0</td>\n",
       "      <td>1</td>\n",
       "    </tr>\n",
       "    <tr>\n",
       "      <th>11111</th>\n",
       "      <td>ultra</td>\n",
       "      <td>12</td>\n",
       "      <td>692</td>\n",
       "      <td>2947.000211</td>\n",
       "      <td>15.0</td>\n",
       "      <td>1</td>\n",
       "    </tr>\n",
       "    <tr>\n",
       "      <th>11112</th>\n",
       "      <td>ultra</td>\n",
       "      <td>12</td>\n",
       "      <td>694</td>\n",
       "      <td>3591.099488</td>\n",
       "      <td>18.0</td>\n",
       "      <td>1</td>\n",
       "    </tr>\n",
       "    <tr>\n",
       "      <th>11113</th>\n",
       "      <td>ultra</td>\n",
       "      <td>12</td>\n",
       "      <td>699</td>\n",
       "      <td>3202.890770</td>\n",
       "      <td>26.0</td>\n",
       "      <td>1</td>\n",
       "    </tr>\n",
       "  </tbody>\n",
       "</table>\n",
       "<p>11114 rows × 6 columns</p>\n",
       "</div>"
      ],
      "text/plain": [
       "      subscription_type  month  user_id  sum_distance  sum_duration  \\\n",
       "0                  free      1      700   2515.690719          15.0   \n",
       "1                  free      1      701   2676.472894          18.0   \n",
       "2                  free      1      702    903.861985          16.0   \n",
       "3                  free      1      703   3406.580225          24.0   \n",
       "4                  free      1      704   3197.139639          18.0   \n",
       "...                 ...    ...      ...           ...           ...   \n",
       "11109             ultra     12      688   4004.404223          24.0   \n",
       "11110             ultra     12      689   3387.343067          19.0   \n",
       "11111             ultra     12      692   2947.000211          15.0   \n",
       "11112             ultra     12      694   3591.099488          18.0   \n",
       "11113             ultra     12      699   3202.890770          26.0   \n",
       "\n",
       "       count_rides  \n",
       "0                1  \n",
       "1                1  \n",
       "2                1  \n",
       "3                1  \n",
       "4                1  \n",
       "...            ...  \n",
       "11109            1  \n",
       "11110            1  \n",
       "11111            1  \n",
       "11112            1  \n",
       "11113            1  \n",
       "\n",
       "[11114 rows x 6 columns]"
      ]
     },
     "execution_count": 42,
     "metadata": {},
     "output_type": "execute_result"
    }
   ],
   "source": [
    "#группировка, суммирование и подсчет\n",
    "rides_user_revenue = rides_user.pivot_table(\n",
    "    index=[\n",
    "        'subscription_type', \n",
    "        'month', \n",
    "        'user_id'\n",
    "    ], \n",
    "    values=['duration', 'distance'], \n",
    "    aggfunc=['sum', 'count']\n",
    ")\n",
    "# переименование столбцов\n",
    "rides_user_revenue.columns = ['sum_distance', 'sum_duration', 'count_rides', 'del']\n",
    "\n",
    "# удалить лишний столбец количества поездок\n",
    "del rides_user_revenue['del']\n",
    "\n",
    "# убираю мультииндекс\n",
    "rides_user_revenue = rides_user_revenue.reset_index()\n",
    "\n",
    "\n",
    "rides_user_revenue"
   ]
  },
  {
   "cell_type": "code",
   "execution_count": 43,
   "id": "cfdbc74c",
   "metadata": {},
   "outputs": [
    {
     "data": {
      "text/html": [
       "<div>\n",
       "<style scoped>\n",
       "    .dataframe tbody tr th:only-of-type {\n",
       "        vertical-align: middle;\n",
       "    }\n",
       "\n",
       "    .dataframe tbody tr th {\n",
       "        vertical-align: top;\n",
       "    }\n",
       "\n",
       "    .dataframe thead th {\n",
       "        text-align: right;\n",
       "    }\n",
       "</style>\n",
       "<table border=\"1\" class=\"dataframe\">\n",
       "  <thead>\n",
       "    <tr style=\"text-align: right;\">\n",
       "      <th></th>\n",
       "      <th>subscription_type</th>\n",
       "      <th>month</th>\n",
       "      <th>user_id</th>\n",
       "      <th>sum_distance</th>\n",
       "      <th>sum_duration</th>\n",
       "      <th>count_rides</th>\n",
       "      <th>minute_price</th>\n",
       "      <th>start_ride_price</th>\n",
       "      <th>subscription_fee</th>\n",
       "    </tr>\n",
       "  </thead>\n",
       "  <tbody>\n",
       "    <tr>\n",
       "      <th>0</th>\n",
       "      <td>free</td>\n",
       "      <td>1</td>\n",
       "      <td>700</td>\n",
       "      <td>2515.690719</td>\n",
       "      <td>15.0</td>\n",
       "      <td>1</td>\n",
       "      <td>8</td>\n",
       "      <td>50</td>\n",
       "      <td>0</td>\n",
       "    </tr>\n",
       "    <tr>\n",
       "      <th>1</th>\n",
       "      <td>free</td>\n",
       "      <td>1</td>\n",
       "      <td>701</td>\n",
       "      <td>2676.472894</td>\n",
       "      <td>18.0</td>\n",
       "      <td>1</td>\n",
       "      <td>8</td>\n",
       "      <td>50</td>\n",
       "      <td>0</td>\n",
       "    </tr>\n",
       "    <tr>\n",
       "      <th>2</th>\n",
       "      <td>free</td>\n",
       "      <td>1</td>\n",
       "      <td>702</td>\n",
       "      <td>903.861985</td>\n",
       "      <td>16.0</td>\n",
       "      <td>1</td>\n",
       "      <td>8</td>\n",
       "      <td>50</td>\n",
       "      <td>0</td>\n",
       "    </tr>\n",
       "    <tr>\n",
       "      <th>3</th>\n",
       "      <td>free</td>\n",
       "      <td>1</td>\n",
       "      <td>703</td>\n",
       "      <td>3406.580225</td>\n",
       "      <td>24.0</td>\n",
       "      <td>1</td>\n",
       "      <td>8</td>\n",
       "      <td>50</td>\n",
       "      <td>0</td>\n",
       "    </tr>\n",
       "    <tr>\n",
       "      <th>4</th>\n",
       "      <td>free</td>\n",
       "      <td>1</td>\n",
       "      <td>704</td>\n",
       "      <td>3197.139639</td>\n",
       "      <td>18.0</td>\n",
       "      <td>1</td>\n",
       "      <td>8</td>\n",
       "      <td>50</td>\n",
       "      <td>0</td>\n",
       "    </tr>\n",
       "    <tr>\n",
       "      <th>...</th>\n",
       "      <td>...</td>\n",
       "      <td>...</td>\n",
       "      <td>...</td>\n",
       "      <td>...</td>\n",
       "      <td>...</td>\n",
       "      <td>...</td>\n",
       "      <td>...</td>\n",
       "      <td>...</td>\n",
       "      <td>...</td>\n",
       "    </tr>\n",
       "    <tr>\n",
       "      <th>11109</th>\n",
       "      <td>ultra</td>\n",
       "      <td>12</td>\n",
       "      <td>688</td>\n",
       "      <td>4004.404223</td>\n",
       "      <td>24.0</td>\n",
       "      <td>1</td>\n",
       "      <td>6</td>\n",
       "      <td>0</td>\n",
       "      <td>199</td>\n",
       "    </tr>\n",
       "    <tr>\n",
       "      <th>11110</th>\n",
       "      <td>ultra</td>\n",
       "      <td>12</td>\n",
       "      <td>689</td>\n",
       "      <td>3387.343067</td>\n",
       "      <td>19.0</td>\n",
       "      <td>1</td>\n",
       "      <td>6</td>\n",
       "      <td>0</td>\n",
       "      <td>199</td>\n",
       "    </tr>\n",
       "    <tr>\n",
       "      <th>11111</th>\n",
       "      <td>ultra</td>\n",
       "      <td>12</td>\n",
       "      <td>692</td>\n",
       "      <td>2947.000211</td>\n",
       "      <td>15.0</td>\n",
       "      <td>1</td>\n",
       "      <td>6</td>\n",
       "      <td>0</td>\n",
       "      <td>199</td>\n",
       "    </tr>\n",
       "    <tr>\n",
       "      <th>11112</th>\n",
       "      <td>ultra</td>\n",
       "      <td>12</td>\n",
       "      <td>694</td>\n",
       "      <td>3591.099488</td>\n",
       "      <td>18.0</td>\n",
       "      <td>1</td>\n",
       "      <td>6</td>\n",
       "      <td>0</td>\n",
       "      <td>199</td>\n",
       "    </tr>\n",
       "    <tr>\n",
       "      <th>11113</th>\n",
       "      <td>ultra</td>\n",
       "      <td>12</td>\n",
       "      <td>699</td>\n",
       "      <td>3202.890770</td>\n",
       "      <td>26.0</td>\n",
       "      <td>1</td>\n",
       "      <td>6</td>\n",
       "      <td>0</td>\n",
       "      <td>199</td>\n",
       "    </tr>\n",
       "  </tbody>\n",
       "</table>\n",
       "<p>11114 rows × 9 columns</p>\n",
       "</div>"
      ],
      "text/plain": [
       "      subscription_type  month  user_id  sum_distance  sum_duration  \\\n",
       "0                  free      1      700   2515.690719          15.0   \n",
       "1                  free      1      701   2676.472894          18.0   \n",
       "2                  free      1      702    903.861985          16.0   \n",
       "3                  free      1      703   3406.580225          24.0   \n",
       "4                  free      1      704   3197.139639          18.0   \n",
       "...                 ...    ...      ...           ...           ...   \n",
       "11109             ultra     12      688   4004.404223          24.0   \n",
       "11110             ultra     12      689   3387.343067          19.0   \n",
       "11111             ultra     12      692   2947.000211          15.0   \n",
       "11112             ultra     12      694   3591.099488          18.0   \n",
       "11113             ultra     12      699   3202.890770          26.0   \n",
       "\n",
       "       count_rides  minute_price  start_ride_price  subscription_fee  \n",
       "0                1             8                50                 0  \n",
       "1                1             8                50                 0  \n",
       "2                1             8                50                 0  \n",
       "3                1             8                50                 0  \n",
       "4                1             8                50                 0  \n",
       "...            ...           ...               ...               ...  \n",
       "11109            1             6                 0               199  \n",
       "11110            1             6                 0               199  \n",
       "11111            1             6                 0               199  \n",
       "11112            1             6                 0               199  \n",
       "11113            1             6                 0               199  \n",
       "\n",
       "[11114 rows x 9 columns]"
      ]
     },
     "execution_count": 43,
     "metadata": {},
     "output_type": "execute_result"
    }
   ],
   "source": [
    "#присоединение данных для расчета выручки\n",
    "rides_user_revenue =  pd.merge(rides_user_revenue, subscriptions, on='subscription_type')\n",
    "rides_user_revenue"
   ]
  },
  {
   "cell_type": "code",
   "execution_count": 44,
   "id": "dae316c8",
   "metadata": {},
   "outputs": [
    {
     "data": {
      "text/html": [
       "<div>\n",
       "<style scoped>\n",
       "    .dataframe tbody tr th:only-of-type {\n",
       "        vertical-align: middle;\n",
       "    }\n",
       "\n",
       "    .dataframe tbody tr th {\n",
       "        vertical-align: top;\n",
       "    }\n",
       "\n",
       "    .dataframe thead th {\n",
       "        text-align: right;\n",
       "    }\n",
       "</style>\n",
       "<table border=\"1\" class=\"dataframe\">\n",
       "  <thead>\n",
       "    <tr style=\"text-align: right;\">\n",
       "      <th></th>\n",
       "      <th>subscription_type</th>\n",
       "      <th>month</th>\n",
       "      <th>user_id</th>\n",
       "      <th>sum_distance</th>\n",
       "      <th>sum_duration</th>\n",
       "      <th>count_rides</th>\n",
       "      <th>minute_price</th>\n",
       "      <th>start_ride_price</th>\n",
       "      <th>subscription_fee</th>\n",
       "      <th>revenue</th>\n",
       "    </tr>\n",
       "  </thead>\n",
       "  <tbody>\n",
       "    <tr>\n",
       "      <th>0</th>\n",
       "      <td>free</td>\n",
       "      <td>1</td>\n",
       "      <td>700</td>\n",
       "      <td>2515.690719</td>\n",
       "      <td>15.0</td>\n",
       "      <td>1</td>\n",
       "      <td>8</td>\n",
       "      <td>50</td>\n",
       "      <td>0</td>\n",
       "      <td>170.0</td>\n",
       "    </tr>\n",
       "  </tbody>\n",
       "</table>\n",
       "</div>"
      ],
      "text/plain": [
       "  subscription_type  month  user_id  sum_distance  sum_duration  count_rides  \\\n",
       "0              free      1      700   2515.690719          15.0            1   \n",
       "\n",
       "   minute_price  start_ride_price  subscription_fee  revenue  \n",
       "0             8                50                 0    170.0  "
      ]
     },
     "metadata": {},
     "output_type": "display_data"
    },
    {
     "data": {
      "text/html": [
       "<div>\n",
       "<style scoped>\n",
       "    .dataframe tbody tr th:only-of-type {\n",
       "        vertical-align: middle;\n",
       "    }\n",
       "\n",
       "    .dataframe tbody tr th {\n",
       "        vertical-align: top;\n",
       "    }\n",
       "\n",
       "    .dataframe thead th {\n",
       "        text-align: right;\n",
       "    }\n",
       "</style>\n",
       "<table border=\"1\" class=\"dataframe\">\n",
       "  <thead>\n",
       "    <tr style=\"text-align: right;\">\n",
       "      <th></th>\n",
       "      <th>subscription_type</th>\n",
       "      <th>month</th>\n",
       "      <th>user_id</th>\n",
       "      <th>sum_distance</th>\n",
       "      <th>sum_duration</th>\n",
       "      <th>count_rides</th>\n",
       "      <th>minute_price</th>\n",
       "      <th>start_ride_price</th>\n",
       "      <th>subscription_fee</th>\n",
       "      <th>revenue</th>\n",
       "    </tr>\n",
       "  </thead>\n",
       "  <tbody>\n",
       "    <tr>\n",
       "      <th>11113</th>\n",
       "      <td>ultra</td>\n",
       "      <td>12</td>\n",
       "      <td>699</td>\n",
       "      <td>3202.89077</td>\n",
       "      <td>26.0</td>\n",
       "      <td>1</td>\n",
       "      <td>6</td>\n",
       "      <td>0</td>\n",
       "      <td>199</td>\n",
       "      <td>355.0</td>\n",
       "    </tr>\n",
       "  </tbody>\n",
       "</table>\n",
       "</div>"
      ],
      "text/plain": [
       "      subscription_type  month  user_id  sum_distance  sum_duration  \\\n",
       "11113             ultra     12      699    3202.89077          26.0   \n",
       "\n",
       "       count_rides  minute_price  start_ride_price  subscription_fee  revenue  \n",
       "11113            1             6                 0               199    355.0  "
      ]
     },
     "execution_count": 44,
     "metadata": {},
     "output_type": "execute_result"
    }
   ],
   "source": [
    "# новый столбец с выручкой по каждому ID в разные месяца\n",
    "rides_user_revenue['revenue'] = rides_user_revenue['start_ride_price'] * rides_user_revenue['count_rides'] + \\\n",
    "rides_user_revenue['minute_price'] * rides_user_revenue['sum_duration'] + rides_user_revenue['subscription_fee']\n",
    "\n",
    "# проверим расчет с подпиской и без неё\n",
    "display(rides_user_revenue.head(1))\n",
    "rides_user_revenue.tail(1)"
   ]
  },
  {
   "cell_type": "markdown",
   "id": "03a0b19d",
   "metadata": {},
   "source": [
    "<div class=\"alert alert-success\">\n",
    "<b>Комментарий ревьюера:</b>☀️\n",
    "    \n",
    "Абсолютно верный расчёт доходов, можно двигаться к проверке гипотез\n",
    "    "
   ]
  },
  {
   "cell_type": "markdown",
   "id": "ecea33d1",
   "metadata": {},
   "source": [
    "Расчет верный "
   ]
  },
  {
   "cell_type": "code",
   "execution_count": 45,
   "id": "46941dbe",
   "metadata": {},
   "outputs": [
    {
     "data": {
      "text/plain": [
       "3802923.0"
      ]
     },
     "execution_count": 45,
     "metadata": {},
     "output_type": "execute_result"
    }
   ],
   "source": [
    "rides_user_revenue['revenue'].sum()"
   ]
  },
  {
   "cell_type": "markdown",
   "id": "b03d2209",
   "metadata": {},
   "source": [
    "# 6. Шаг 6. Проверка гипотез"
   ]
  },
  {
   "cell_type": "markdown",
   "id": "2f917cba",
   "metadata": {},
   "source": [
    "Гипотезы, которые необходимо проверить:\n",
    "\n",
    "- 1 Тратят ли пользователи с подпиской больше времени на поездки?\n",
    "- 2 Можно ли сказать, что среднее расстояние, которое проезжают пользователи с подпиской за одну поездку, не превышает 3130 метров?\n",
    "- 3 Будет ли помесячная выручка от пользователей с подпиской по месяцам выше, чем выручка от пользователей без подписки?"
   ]
  },
  {
   "cell_type": "code",
   "execution_count": 46,
   "id": "a9bc72ae",
   "metadata": {},
   "outputs": [],
   "source": [
    "#импорт библиотеки SciPy для использования её методов\n",
    "from scipy import stats as st"
   ]
  },
  {
   "cell_type": "markdown",
   "id": "76d63e13",
   "metadata": {},
   "source": [
    "## 6.1 Тратят ли пользователи с подпиской больше времени на поездки?"
   ]
  },
  {
   "cell_type": "code",
   "execution_count": 47,
   "id": "e0f5e954",
   "metadata": {},
   "outputs": [
    {
     "name": "stdout",
     "output_type": "stream",
     "text": [
      "Среднее выборки: 18.4704374885594\n"
     ]
    }
   ],
   "source": [
    "# время первой группы пользователей (без подписки)\n",
    "duration_free = rides_user_free['duration']\n",
    "print('Среднее выборки:', duration_free.mean())"
   ]
  },
  {
   "cell_type": "code",
   "execution_count": 48,
   "id": "90ed9462",
   "metadata": {},
   "outputs": [
    {
     "name": "stdout",
     "output_type": "stream",
     "text": [
      "Среднее выборки: 19.0615265998458\n"
     ]
    }
   ],
   "source": [
    "# время второй группы пользователей (с подпиской)\n",
    "duration_ultra = rides_user_ultra['duration']\n",
    "print('Среднее выборки:', duration_ultra.mean())"
   ]
  },
  {
   "cell_type": "code",
   "execution_count": 49,
   "id": "84f3beec",
   "metadata": {},
   "outputs": [],
   "source": [
    "# уровень статистической значимости\n",
    "alpha = 0.05 "
   ]
  },
  {
   "cell_type": "code",
   "execution_count": 50,
   "id": "b5634369",
   "metadata": {},
   "outputs": [
    {
     "name": "stdout",
     "output_type": "stream",
     "text": [
      "p-value: 3.889437860363158e-11\n",
      "Отвергаем нулевую гипотезу\n"
     ]
    }
   ],
   "source": [
    "# Нулевая гипотеза: пользователи с подпиской в среднем тратят столько же времени на поездку, сколько и пользователи без подписки\n",
    "# альтернативная гипотеза: пользователи с подпиской тратят больше времени на поездки.\n",
    "#H0: μ=20\n",
    "#H1: μ>20\n",
    "# проводим ttest для двух выборок, в качестве альтернативной используем одностороннюю гипотезу «больше»\n",
    "results = st.ttest_ind(duration_ultra, duration_free, alternative='greater')\n",
    "\n",
    "print(f'p-value: {results.pvalue}')\n",
    "\n",
    "# проверяем p-value\n",
    "if results.pvalue < alpha:\n",
    "    print('Отвергаем нулевую гипотезу')\n",
    "else:\n",
    "    print('Нет оснований отвергнуть нулевую гипотезу')\n",
    "    \n",
    "    \n",
    "    \n",
    "    "
   ]
  },
  {
   "cell_type": "markdown",
   "id": "99911dd2",
   "metadata": {},
   "source": [
    "<div class=\"alert alert-danger\">\n",
    "<b>Комментарий ревьюера:</b>☁️\n",
    "\n",
    "Здесь важен порядок переменных в методе, в конфигурации как выше проверяется альтернативная гипотеза о том, больше ли длительность поездок без подписки\n",
    "</div>"
   ]
  },
  {
   "cell_type": "markdown",
   "id": "5570653a",
   "metadata": {},
   "source": [
    "<div class=\"alert alert-info\"> <b>Комментарий студента:</b> да точно. Получается что:\n",
    "    \n",
    "    results = st.ttest_ind( duration_free, duration_ultra, alternative='greater')\n",
    "    больше ли длительность поездок без подписки\n",
    "    \n",
    "    results = st.ttest_ind(duration_ultra, duration_free, alternative='greater')\n",
    "    больше ли длительность поездок с подпиской\n",
    "</div>"
   ]
  },
  {
   "cell_type": "markdown",
   "id": "08d43c6a",
   "metadata": {},
   "source": [
    "<div class=\"alert alert-success\">\n",
    "<b>Комментарий ревьюера v2:</b>☀️\n",
    "   \n",
    "\n",
    "Спасибо!\n",
    "</div>"
   ]
  },
  {
   "cell_type": "markdown",
   "id": "ce4fad2d",
   "metadata": {},
   "source": [
    "Нулевая гипотеза отвергнута, соответственно пользователи с подпиской тратят больше времени на поездки. "
   ]
  },
  {
   "cell_type": "markdown",
   "id": "e720dd9e",
   "metadata": {},
   "source": [
    "## 6.2 Можно ли сказать, что среднее расстояние, которое проезжают пользователи с подпиской за одну поездку, не превышает 3130 метров?"
   ]
  },
  {
   "cell_type": "code",
   "execution_count": 51,
   "id": "4d2c050e",
   "metadata": {},
   "outputs": [
    {
     "name": "stdout",
     "output_type": "stream",
     "text": [
      "Среднее выборки: 3121.8003923702427\n"
     ]
    }
   ],
   "source": [
    "# набор данных из расстояния для пользователей с подпиской\n",
    "distance_ultra = rides_user_ultra['distance']\n",
    "print('Среднее выборки:', distance_ultra.mean())"
   ]
  },
  {
   "cell_type": "code",
   "execution_count": 52,
   "id": "dc3e313a",
   "metadata": {},
   "outputs": [],
   "source": [
    "# Значение проверяемой гипотезы \n",
    "mean_distance_ultra = 3130"
   ]
  },
  {
   "cell_type": "code",
   "execution_count": 53,
   "id": "b032183f",
   "metadata": {},
   "outputs": [],
   "source": [
    "# Нулевая гипотеза: пользователи с подпиской проезжают среднее расстояние 3130 метров.\n",
    "# альтернативная гипотеза: пользователи с подпиской проезжают меньше 3130 метров.\n",
    "\n",
    "#H0: μ=20\n",
    "#H1: μ<20\n",
    "# уровень статистической значимости\n",
    "alpha = 0.05"
   ]
  },
  {
   "cell_type": "code",
   "execution_count": 54,
   "id": "f49aa40e",
   "metadata": {},
   "outputs": [
    {
     "name": "stdout",
     "output_type": "stream",
     "text": [
      "p-значение: 0.21241855920450992\n",
      "Не отвергаем нулевую гипотезу\n"
     ]
    }
   ],
   "source": [
    "results = st.ttest_1samp(\n",
    "    distance_ultra,\n",
    "    mean_distance_ultra,\n",
    "    alternative='less')\n",
    "\n",
    "print('p-значение:', results.pvalue)\n",
    "\n",
    "if (results.pvalue < alpha):\n",
    "    print('Отвергаем нулевую гипотезу')\n",
    "else:\n",
    "    print('Не отвергаем нулевую гипотезу')"
   ]
  },
  {
   "cell_type": "markdown",
   "id": "57893fb7",
   "metadata": {},
   "source": [
    "Вероятность проехать расстояние 3130 м больше статистической значимости, поэтому нулевая гипотеза не отвергается."
   ]
  },
  {
   "cell_type": "markdown",
   "id": "b4f55d71",
   "metadata": {},
   "source": [
    "## 6.3 Будет ли помесячная выручка от пользователей с подпиской по месяцам выше, чем выручка от пользователей без подписки?"
   ]
  },
  {
   "cell_type": "code",
   "execution_count": 55,
   "id": "3f962568",
   "metadata": {},
   "outputs": [],
   "source": [
    "month_revenue_ultra = rides_user_revenue.loc[rides_user_revenue['subscription_type'] == 'ultra', 'revenue']\n",
    "month_revenue_free = rides_user_revenue.loc[rides_user_revenue['subscription_type'] == 'free', 'revenue']\n"
   ]
  },
  {
   "cell_type": "code",
   "execution_count": 56,
   "id": "d342c2f8",
   "metadata": {},
   "outputs": [],
   "source": [
    "# задаём уровень значимости\n",
    "alpha = 0.05"
   ]
  },
  {
   "cell_type": "code",
   "execution_count": 57,
   "id": "7ad5e76f",
   "metadata": {},
   "outputs": [
    {
     "name": "stdout",
     "output_type": "stream",
     "text": [
      "p-value: 1.0346435060563057e-33\n",
      "Отвергаем нулевую гипотезу\n"
     ]
    }
   ],
   "source": [
    "# Нулевая гипотеза: выручка по месяцам от пользователи с подпиской такая же как без подписки.\n",
    "# альтернативная гипотеза: выручка по месяцам от пользователи с подпиской больше, чем выручка от пользователей без подписки.\n",
    "\n",
    "#H0: μ=20\n",
    "#H1: μ>20\n",
    "# проводим ttest для двух выборок, в качестве альтернативной используем одностороннюю гипотезу «больше»\n",
    "results = st.ttest_ind(month_revenue_ultra, month_revenue_free, alternative='greater')\n",
    "\n",
    "print(f'p-value: {results.pvalue}')\n",
    "\n",
    "# проверяем p-value\n",
    "if results.pvalue < alpha:\n",
    "    print('Отвергаем нулевую гипотезу')\n",
    "else:\n",
    "    print('Нет оснований отвергнуть нулевую гипотезу')"
   ]
  },
  {
   "cell_type": "markdown",
   "id": "8524a565",
   "metadata": {},
   "source": [
    "<div class=\"alert alert-danger\">\n",
    "<b>Комментарий ревьюера:</b>☁️\n",
    "\n",
    "Предполагалась проверка не агрегированных доходов по месяцам, а по связке пользователь, месяц \n",
    "</div>"
   ]
  },
  {
   "cell_type": "markdown",
   "id": "4d716acf",
   "metadata": {},
   "source": [
    "<div class=\"alert alert-info\"> <b>Комментарий студента:</b> 🤦🏻исправил, так даже интереснее получилось</div>"
   ]
  },
  {
   "cell_type": "markdown",
   "id": "5e9f14cc",
   "metadata": {},
   "source": [
    "<div class=\"alert alert-success\">\n",
    "<b>Комментарий ревьюера v2:</b>☀️\n",
    "    \n",
    "Отлично, что формулируешь нулевую, альтернативную гипотезу, это важно, выводы верны, ещё могу порекомендовать дополнительно проверять себя и выводить среднее проверяемых переменных или распределения"
   ]
  },
  {
   "cell_type": "code",
   "execution_count": 58,
   "id": "ac81eb15",
   "metadata": {},
   "outputs": [
    {
     "ename": "SyntaxError",
     "evalue": "invalid syntax (2283596905.py, line 1)",
     "output_type": "error",
     "traceback": [
      "\u001b[0;36m  File \u001b[0;32m\"/tmp/ipykernel_78/2283596905.py\"\u001b[0;36m, line \u001b[0;32m1\u001b[0m\n\u001b[0;31m    Нулевая гипотеза отвергнута, соответственно пользователи с подпиской приносят больше дохода.\u001b[0m\n\u001b[0m            ^\u001b[0m\n\u001b[0;31mSyntaxError\u001b[0m\u001b[0;31m:\u001b[0m invalid syntax\n"
     ]
    }
   ],
   "source": [
    "Нулевая гипотеза отвергнута, соответственно пользователи с подпиской приносят больше дохода. "
   ]
  },
  {
   "cell_type": "markdown",
   "id": "ea933e79",
   "metadata": {},
   "source": [
    "Представьте такую ситуацию: техническая команда сервиса обновила сервера, с которыми взаимодействует мобильное приложение. Она надеется, что из-за этого количество обращений в техподдержку значимо снизилось. Некоторый файл содержит для каждого пользователя данные о количестве обращений до обновления и после него. Какой тест вам понадобился бы для проверки этой гипотезы?\n",
    "\n",
    "- Чтобы проверить гипотезу о равенстве среднего генеральной совокупности для зависимых (парных) выборок в Python, применим метод \n",
    "\n",
    "`scipy.stats.ttest_rel().`"
   ]
  },
  {
   "cell_type": "markdown",
   "id": "f521ee6d",
   "metadata": {},
   "source": [
    "<div class=\"alert alert-warning\">\n",
    "<b>Комментарий ревьюера:</b>⛅️ \n",
    "\n",
    "А какую альтернативную гипотезу ты бы использовал?\n",
    "</div>"
   ]
  },
  {
   "cell_type": "markdown",
   "id": "6edd1b94",
   "metadata": {},
   "source": [
    "<div class=\"alert alert-info\"> \n",
    "<b>Комментарий студента:</b> \n",
    "    \n",
    " \n",
    " Альтернативная гипотеза: Количество обращений после обновления снизилось\n",
    "    \n",
    "    scipy.stats.ttest_rel(после, до, alternative='less')\n",
    "    "
   ]
  },
  {
   "cell_type": "markdown",
   "id": "67151ad5",
   "metadata": {},
   "source": [
    "<div class=\"alert alert-success\">\n",
    "<b>Комментарий ревьюера v2:</b>☀️\n",
    "   \n",
    "\n",
    "Да, гипотеза одностороння, отлично, желаю успехов в дальнейшем обучении\n",
    "</div>"
   ]
  },
  {
   "cell_type": "markdown",
   "id": "e8bb1da3",
   "metadata": {},
   "source": [
    "# Вывод"
   ]
  },
  {
   "cell_type": "markdown",
   "id": "6f6b3be3",
   "metadata": {},
   "source": [
    "<u>Цель проекта:</u> проверка трех гипотез которые помогут бизнесу вырасти\n",
    "\n",
    "Вводная информация и данные предоставлены из **большого** массива, более **18 тыс. наблюдений**. Которые исходные и первичны по своему происхождению и не имеют пробелов и выбросов.\n",
    "\n",
    "Предобработке подвергалась следующая часть: \n",
    " - Тип данных даты приведен к datetime для выявления периода в месяц, собранной информации. \n",
    " - Выявленные дубликаты в количестве 31 шт удалены на результаты они не повлияли.\n",
    " - Создан отдельный столб для группировки по месяцам.\n",
    " - Расчет за поездку происходит за полные минуты использования сервиса, соответственно округлил длительность до целых чисел.\n",
    "\n",
    "\n",
    "<u>Исследовательский анализ</u> показал: \n",
    "    **Факты:**\n",
    "    - в Пятигорске 219 зарегистрированных пользователей, и он является лидером среди всех 8 городов.\n",
    "    - 46% пользователей имеют подписку\n",
    "    - Сервис популярен среди людей от 20 до 30 лет в целом пользуются примерно от 12 до 43 лет. \n",
    "    - Максимальная дистанция 7,2 км. чаще всего проезжают от 2,5 до 3,5 км \n",
    "    - Более частое время поездок примерно на 12-25 минут\n",
    "    \n",
    "   *Наблюдения* \n",
    "   - есть куда расти по географии, 8 городов не предел.\n",
    "   - либо в существующих городах, совокупное население городов присутствия 20 млн человек.\n",
    "   - Еще 54 % пользователей не оформили подписку на сервис\n",
    "   - Минимальный возраст пользователя 12 лет, могут быть проблемы с законодательством, ограничивающим возраст пользователей до 18 лет.\n",
    "   - проверить потребность клиентов с пиками дистанций 700м и 3000м\n",
    "   - 95 наблюдений с чрезвычайно малым временем поездки (менее 1 минуты) и расстоянием в несколько киломеров🚀 требуется проверка записи данных.\n",
    "    \n",
    "\n",
    "\n",
    "<u>Один из запросов проекта был подсчёт выручки.</u> \n",
    "\n",
    "  *Шаг 1* Данные объединены из разных файлов.\\\n",
    "  *Шаг 2* Каждой поездке присвоены параметры расчета согласно тарифу.\\\n",
    "  *Шаг 3* Расчет каждой поездки согласно тарифу. \\\n",
    "  *Шаг 4* Группировка, суммирование по месяцам.\\\n",
    "  ***3,8 млн - это выручка по текущим поездкам***\n",
    "  \n",
    "<u>ГИПОТЕЗЫ</u> , нашего проекта:\n",
    "\n",
    " * Первая гипотеза звучала так:\\\n",
    " \"Тратят ли пользователи с подпиской больше времени на поездки?\" \\\n",
    " **Результат:** Да время поездок у пользователей с подпиской больше. Соответственно они выгоднее.\n",
    "\n",
    " * Вторая гипотеза:\\\n",
    " \"Среднее расстояние, которое проезжают пользователи с подпиской за одну поездку не превышает 3100 метров\" \\\n",
    " **Результат** Проверить эту гипотезу не получилось, так как с вероятностью около 21 %  пользователи проезжают среднее расстояние около 3130 м и более.  \n",
    "\n",
    " * Третья гипотеза:\\\n",
    " \" Будет ли помесячная выручка от пользователей с подпиской по месяцам выше, чем выручка от пользователей без подписки?\" \\\n",
    " **Результат** Да, пользователи с подпиской приносят больше дохода. следовательно развиваем долю клиентов с подпиской.\n",
    " \n",
    "\n"
   ]
  },
  {
   "cell_type": "markdown",
   "id": "0e409e8e",
   "metadata": {},
   "source": [
    "<div class=\"alert alert-success\">\n",
    "<b>Комментарий ревьюера:</b>☀️\n",
    "    \n",
    "Было бы хорошо добавить маркированный список, возможно не один, что-то выделить жирным, чтобы повысить читаемость вывода"
   ]
  },
  {
   "cell_type": "code",
   "execution_count": null,
   "id": "76fc3456",
   "metadata": {},
   "outputs": [],
   "source": []
  },
  {
   "cell_type": "code",
   "execution_count": null,
   "id": "7d93423e",
   "metadata": {},
   "outputs": [],
   "source": []
  },
  {
   "cell_type": "code",
   "execution_count": null,
   "id": "caed7521",
   "metadata": {},
   "outputs": [],
   "source": []
  }
 ],
 "metadata": {
  "ExecuteTimeLog": [
   {
    "duration": 1217,
    "start_time": "2024-02-16T20:15:37.994Z"
   },
   {
    "duration": 71,
    "start_time": "2024-02-16T20:15:39.214Z"
   },
   {
    "duration": 31,
    "start_time": "2024-02-16T20:15:39.287Z"
   },
   {
    "duration": 74,
    "start_time": "2024-02-16T20:15:39.322Z"
   },
   {
    "duration": 97,
    "start_time": "2024-02-16T20:15:39.398Z"
   },
   {
    "duration": 16,
    "start_time": "2024-02-16T20:15:39.506Z"
   },
   {
    "duration": 64,
    "start_time": "2024-02-16T20:15:39.524Z"
   },
   {
    "duration": 14,
    "start_time": "2024-02-16T20:15:39.590Z"
   },
   {
    "duration": 16,
    "start_time": "2024-02-16T20:15:39.606Z"
   },
   {
    "duration": 71,
    "start_time": "2024-02-16T20:15:39.627Z"
   },
   {
    "duration": 5,
    "start_time": "2024-02-16T20:15:39.705Z"
   },
   {
    "duration": 3,
    "start_time": "2024-02-16T20:15:39.713Z"
   },
   {
    "duration": 472,
    "start_time": "2024-02-16T20:15:39.719Z"
   },
   {
    "duration": 155,
    "start_time": "2024-02-16T20:15:40.197Z"
   },
   {
    "duration": 89,
    "start_time": "2024-02-16T20:15:40.353Z"
   },
   {
    "duration": 205,
    "start_time": "2024-02-16T20:15:40.443Z"
   },
   {
    "duration": 186,
    "start_time": "2024-02-16T20:15:40.649Z"
   },
   {
    "duration": 770,
    "start_time": "2024-02-16T20:15:40.836Z"
   },
   {
    "duration": 165,
    "start_time": "2024-02-16T20:15:41.608Z"
   },
   {
    "duration": 491,
    "start_time": "2024-02-16T20:15:41.774Z"
   },
   {
    "duration": 5,
    "start_time": "2024-02-16T20:15:42.267Z"
   },
   {
    "duration": 8,
    "start_time": "2024-02-16T20:15:42.282Z"
   },
   {
    "duration": 27,
    "start_time": "2024-02-16T20:15:42.297Z"
   },
   {
    "duration": 31,
    "start_time": "2024-02-16T20:15:42.326Z"
   },
   {
    "duration": 58,
    "start_time": "2024-02-16T20:15:42.359Z"
   },
   {
    "duration": 328,
    "start_time": "2024-02-16T20:15:42.418Z"
   },
   {
    "duration": 558,
    "start_time": "2024-02-16T20:15:42.748Z"
   },
   {
    "duration": 45,
    "start_time": "2024-02-16T20:15:43.310Z"
   },
   {
    "duration": 49,
    "start_time": "2024-02-16T20:15:43.357Z"
   },
   {
    "duration": 29,
    "start_time": "2024-02-16T20:15:43.409Z"
   },
   {
    "duration": 5,
    "start_time": "2024-02-16T20:15:43.440Z"
   },
   {
    "duration": 504,
    "start_time": "2024-02-16T20:15:43.446Z"
   },
   {
    "duration": 4,
    "start_time": "2024-02-16T20:15:43.951Z"
   },
   {
    "duration": 9,
    "start_time": "2024-02-16T20:15:43.957Z"
   },
   {
    "duration": 20,
    "start_time": "2024-02-16T20:15:43.968Z"
   },
   {
    "duration": 16,
    "start_time": "2024-02-16T20:15:43.990Z"
   },
   {
    "duration": 5,
    "start_time": "2024-02-16T20:15:44.009Z"
   },
   {
    "duration": 6,
    "start_time": "2024-02-16T20:15:44.015Z"
   },
   {
    "duration": 4,
    "start_time": "2024-02-16T20:15:44.022Z"
   },
   {
    "duration": 5,
    "start_time": "2024-02-16T20:15:44.028Z"
   },
   {
    "duration": 13,
    "start_time": "2024-02-16T20:15:44.035Z"
   },
   {
    "duration": 27,
    "start_time": "2024-02-16T20:15:44.081Z"
   },
   {
    "duration": 11,
    "start_time": "2024-02-16T20:15:44.111Z"
   },
   {
    "duration": 4,
    "start_time": "2024-02-16T20:15:44.124Z"
   },
   {
    "duration": 8,
    "start_time": "2024-02-16T20:15:44.130Z"
   },
   {
    "duration": 17,
    "start_time": "2024-02-16T20:15:49.038Z"
   },
   {
    "duration": 43,
    "start_time": "2024-02-17T20:45:03.356Z"
   },
   {
    "duration": 944,
    "start_time": "2024-02-17T20:45:06.618Z"
   },
   {
    "duration": 44,
    "start_time": "2024-02-17T20:45:07.564Z"
   },
   {
    "duration": 21,
    "start_time": "2024-02-17T20:45:07.609Z"
   },
   {
    "duration": 21,
    "start_time": "2024-02-17T20:45:07.633Z"
   },
   {
    "duration": 14,
    "start_time": "2024-02-17T20:45:07.655Z"
   },
   {
    "duration": 15,
    "start_time": "2024-02-17T20:45:07.701Z"
   },
   {
    "duration": 7,
    "start_time": "2024-02-17T20:45:07.718Z"
   },
   {
    "duration": 9,
    "start_time": "2024-02-17T20:45:07.726Z"
   },
   {
    "duration": 7,
    "start_time": "2024-02-17T20:45:07.736Z"
   },
   {
    "duration": 6,
    "start_time": "2024-02-17T20:45:07.745Z"
   },
   {
    "duration": 5,
    "start_time": "2024-02-17T20:45:07.752Z"
   },
   {
    "duration": 3,
    "start_time": "2024-02-17T20:45:07.759Z"
   },
   {
    "duration": 4,
    "start_time": "2024-02-17T20:45:07.801Z"
   },
   {
    "duration": 358,
    "start_time": "2024-02-17T20:45:07.806Z"
   },
   {
    "duration": 146,
    "start_time": "2024-02-17T20:45:08.165Z"
   },
   {
    "duration": 59,
    "start_time": "2024-02-17T20:45:08.313Z"
   },
   {
    "duration": 144,
    "start_time": "2024-02-17T20:45:08.373Z"
   },
   {
    "duration": 5,
    "start_time": "2024-02-17T20:45:08.518Z"
   },
   {
    "duration": 293,
    "start_time": "2024-02-17T20:45:08.524Z"
   },
   {
    "duration": 322,
    "start_time": "2024-02-17T20:45:08.818Z"
   },
   {
    "duration": 225,
    "start_time": "2024-02-17T20:45:09.141Z"
   },
   {
    "duration": 231,
    "start_time": "2024-02-17T20:45:09.367Z"
   },
   {
    "duration": 146,
    "start_time": "2024-02-17T20:45:09.599Z"
   },
   {
    "duration": 5,
    "start_time": "2024-02-17T20:45:09.746Z"
   },
   {
    "duration": 11,
    "start_time": "2024-02-17T20:45:09.752Z"
   },
   {
    "duration": 350,
    "start_time": "2024-02-17T20:45:09.764Z"
   },
   {
    "duration": 240,
    "start_time": "2024-02-17T20:45:28.508Z"
   },
   {
    "duration": 6,
    "start_time": "2024-02-17T20:48:35.711Z"
   },
   {
    "duration": 398,
    "start_time": "2024-02-17T20:48:38.056Z"
   },
   {
    "duration": 30,
    "start_time": "2024-02-17T20:48:38.838Z"
   },
   {
    "duration": 7,
    "start_time": "2024-02-17T20:48:40.848Z"
   },
   {
    "duration": 6,
    "start_time": "2024-02-17T20:48:41.023Z"
   },
   {
    "duration": 2,
    "start_time": "2024-02-17T20:48:41.266Z"
   },
   {
    "duration": 22,
    "start_time": "2024-02-17T20:48:50.100Z"
   },
   {
    "duration": 29,
    "start_time": "2024-02-17T20:48:50.124Z"
   },
   {
    "duration": 15,
    "start_time": "2024-02-17T20:48:50.155Z"
   },
   {
    "duration": 36,
    "start_time": "2024-02-17T20:48:50.172Z"
   },
   {
    "duration": 351,
    "start_time": "2024-02-17T20:48:50.209Z"
   },
   {
    "duration": 399,
    "start_time": "2024-02-17T20:48:50.561Z"
   },
   {
    "duration": 383,
    "start_time": "2024-02-17T20:48:50.962Z"
   },
   {
    "duration": 86,
    "start_time": "2024-02-17T20:48:51.346Z"
   },
   {
    "duration": 69,
    "start_time": "2024-02-17T20:48:51.433Z"
   },
   {
    "duration": 15,
    "start_time": "2024-02-17T20:48:51.504Z"
   },
   {
    "duration": 25,
    "start_time": "2024-02-17T20:48:51.520Z"
   },
   {
    "duration": 2,
    "start_time": "2024-02-17T20:48:51.547Z"
   },
   {
    "duration": 3,
    "start_time": "2024-02-17T20:48:51.551Z"
   },
   {
    "duration": 46,
    "start_time": "2024-02-17T20:48:51.556Z"
   },
   {
    "duration": 8,
    "start_time": "2024-02-17T20:48:51.604Z"
   },
   {
    "duration": 12,
    "start_time": "2024-02-17T20:48:51.613Z"
   },
   {
    "duration": 16,
    "start_time": "2024-02-17T20:48:51.626Z"
   },
   {
    "duration": 5,
    "start_time": "2024-02-17T20:48:51.643Z"
   },
   {
    "duration": 6,
    "start_time": "2024-02-17T20:48:51.649Z"
   },
   {
    "duration": 46,
    "start_time": "2024-02-17T20:48:51.656Z"
   },
   {
    "duration": 10,
    "start_time": "2024-02-17T20:48:51.703Z"
   },
   {
    "duration": 5,
    "start_time": "2024-02-17T20:48:51.714Z"
   },
   {
    "duration": 6,
    "start_time": "2024-02-17T20:48:51.720Z"
   },
   {
    "duration": 78,
    "start_time": "2024-02-17T20:48:51.728Z"
   },
   {
    "duration": 807,
    "start_time": "2024-02-17T22:35:41.866Z"
   },
   {
    "duration": 41,
    "start_time": "2024-02-17T22:35:42.725Z"
   }
  ],
  "kernelspec": {
   "display_name": "Python 3 (ipykernel)",
   "language": "python",
   "name": "python3"
  },
  "language_info": {
   "codemirror_mode": {
    "name": "ipython",
    "version": 3
   },
   "file_extension": ".py",
   "mimetype": "text/x-python",
   "name": "python",
   "nbconvert_exporter": "python",
   "pygments_lexer": "ipython3",
   "version": "3.11.5"
  },
  "toc": {
   "base_numbering": 1,
   "nav_menu": {},
   "number_sections": true,
   "sideBar": true,
   "skip_h1_title": true,
   "title_cell": "Table of Contents",
   "title_sidebar": "Contents",
   "toc_cell": false,
   "toc_position": {
    "height": "659px",
    "left": "740px",
    "top": "396.125px",
    "width": "369.594px"
   },
   "toc_section_display": true,
   "toc_window_display": true
  },
  "varInspector": {
   "cols": {
    "lenName": 16,
    "lenType": 16,
    "lenVar": 40
   },
   "kernels_config": {
    "python": {
     "delete_cmd_postfix": "",
     "delete_cmd_prefix": "del ",
     "library": "var_list.py",
     "varRefreshCmd": "print(var_dic_list())"
    },
    "r": {
     "delete_cmd_postfix": ") ",
     "delete_cmd_prefix": "rm(",
     "library": "var_list.r",
     "varRefreshCmd": "cat(var_dic_list()) "
    }
   },
   "types_to_exclude": [
    "module",
    "function",
    "builtin_function_or_method",
    "instance",
    "_Feature"
   ],
   "window_display": false
  }
 },
 "nbformat": 4,
 "nbformat_minor": 5
}
